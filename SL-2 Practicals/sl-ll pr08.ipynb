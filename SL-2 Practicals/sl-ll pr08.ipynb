{
 "cells": [
  {
   "cell_type": "code",
   "execution_count": null,
   "id": "2e3c4ebf-0cf1-4dfa-90ce-05846b0c1971",
   "metadata": {},
   "outputs": [],
   "source": [
    "Practical 08 : Write a python program to illustrate ART neural network."
   ]
  },
  {
   "cell_type": "code",
   "execution_count": 1,
   "id": "67a269c4-7836-4964-badf-254d1634a4c2",
   "metadata": {},
   "outputs": [
    {
     "name": "stdout",
     "output_type": "stream",
     "text": [
      "Predictions:\n",
      "Input: [1 0 0], Predicted Category: 0\n",
      "Input: [0 1 0], Predicted Category: 1\n",
      "Input: [1 1 0], Predicted Category: 2\n",
      "Input: [0 0 1], Predicted Category: 3\n"
     ]
    }
   ],
   "source": [
    "import numpy as np\n",
    "\n",
    "class ART1:\n",
    "    def __init__(self, input_size, num_categories, vigilance):\n",
    "        self.input_size = input_size\n",
    "        self.num_categories = num_categories\n",
    "        self.vigilance = vigilance\n",
    "\n",
    "        # Initialize weight matrix (each category has its own weight vector)\n",
    "        self.weights = np.ones((num_categories, input_size * 2))  # for complement coding\n",
    "\n",
    "    def complement_code(self, input_vector):\n",
    "        \"\"\"Generate complement coded input vector\"\"\"\n",
    "        return np.concatenate([input_vector, 1 - input_vector])\n",
    "\n",
    "    def match_category(self, input_vector):\n",
    "        \"\"\"Compute normalized match scores\"\"\"\n",
    "        scores = np.dot(self.weights, input_vector)\n",
    "        norms = np.sum(input_vector)\n",
    "        return scores / norms\n",
    "\n",
    "    def train(self, inputs):\n",
    "        for input_vector in inputs:\n",
    "            input_vector = self.complement_code(input_vector)\n",
    "            while True:\n",
    "                match_scores = self.match_category(input_vector)\n",
    "                chosen_category = np.argmax(match_scores)\n",
    "\n",
    "                # Vigilance test\n",
    "                min_sum = np.sum(np.minimum(input_vector, self.weights[chosen_category]))\n",
    "                input_sum = np.sum(input_vector)\n",
    "\n",
    "                if min_sum / input_sum >= self.vigilance:\n",
    "                    # Update weights\n",
    "                    self.weights[chosen_category] = np.minimum(input_vector, self.weights[chosen_category])\n",
    "                    break\n",
    "                else:\n",
    "                    # Reset the category by setting its weight to zero\n",
    "                    self.weights[chosen_category] = np.zeros_like(self.weights[chosen_category])\n",
    "\n",
    "    def predict(self, input_vector):\n",
    "        input_vector = self.complement_code(input_vector)\n",
    "        match_scores = self.match_category(input_vector)\n",
    "        return np.argmax(match_scores)\n",
    "\n",
    "# === Example usage ===\n",
    "inputs = np.array([\n",
    "    [1, 0, 0],\n",
    "    [0, 1, 0],\n",
    "    [1, 1, 0],\n",
    "    [0, 0, 1],\n",
    "])\n",
    "\n",
    "# Initialize ART1 network\n",
    "art = ART1(input_size=3, num_categories=4, vigilance=0.7)\n",
    "art.train(inputs)\n",
    "\n",
    "print(\"Predictions:\")\n",
    "for input_vector in inputs:\n",
    "    category = art.predict(input_vector)\n",
    "    print(f\"Input: {input_vector}, Predicted Category: {category}\")\n"
   ]
  },
  {
   "cell_type": "code",
   "execution_count": null,
   "id": "62781b58-3e53-4426-b632-ac2abf0854aa",
   "metadata": {},
   "outputs": [],
   "source": []
  }
 ],
 "metadata": {
  "kernelspec": {
   "display_name": "Python 3 (ipykernel)",
   "language": "python",
   "name": "python3"
  },
  "language_info": {
   "codemirror_mode": {
    "name": "ipython",
    "version": 3
   },
   "file_extension": ".py",
   "mimetype": "text/x-python",
   "name": "python",
   "nbconvert_exporter": "python",
   "pygments_lexer": "ipython3",
   "version": "3.12.6"
  }
 },
 "nbformat": 4,
 "nbformat_minor": 5
}
