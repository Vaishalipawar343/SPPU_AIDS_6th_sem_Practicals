{
 "cells": [
  {
   "cell_type": "code",
   "execution_count": null,
   "id": "806942c0-64d4-4dde-90a8-f44ea51b68c5",
   "metadata": {},
   "outputs": [],
   "source": [
    "Practical 09 : Write a python program to design a Hopfield Network which stores 4 vectors"
   ]
  },
  {
   "cell_type": "code",
   "execution_count": 5,
   "id": "1ceeaedf-64b2-4330-995b-6b951d9a8522",
   "metadata": {},
   "outputs": [
    {
     "name": "stdout",
     "output_type": "stream",
     "text": [
      "Input pattern:   [ 1  1 -1 -1 -1  1]\n",
      "Recalled pattern: [ 1  1 -1 -1  1  1]\n"
     ]
    }
   ],
   "source": [
    "import numpy as np\n",
    "class HopfieldNetwork:\n",
    "    def __init__(self, size):\n",
    "        self.size = size\n",
    "        self.weights = np.zeros((size, size))\n",
    "    def train(self, patterns):\n",
    "        for p in patterns:\n",
    "            p = p.reshape(-1, 1)\n",
    "            self.weights += p @ p.T\n",
    "        np.fill_diagonal(self.weights, 0)  # No self-connection\n",
    "    def recall(self, pattern, steps=5):\n",
    "        pattern = pattern.copy()\n",
    "        for _ in range(steps):\n",
    "            for i in range(self.size):\n",
    "                raw = np.dot(self.weights[i], pattern)\n",
    "                pattern[i] = 1 if raw >= 0 else -1\n",
    "        return pattern\n",
    " # Define 4 patterns (bipolar vectors: -1 and 1)\n",
    "patterns = np.array([\n",
    "    [1, -1, 1, -1, 1, -1],\n",
    "    [-1, -1, 1, 1, -1, -1],\n",
    "    [1, 1, -1, -1, 1, 1],\n",
    "    [-1, 1, -1, 1, -1, 1]\n",
    " ])\n",
    " # Initialize Hopfield network\n",
    "hopfield = HopfieldNetwork(size=6)\n",
    "hopfield.train(patterns)\n",
    "# Test recall with a noisy version of one of the patterns\n",
    "test_input = np.array([1, 1, -1, -1, -1, 1])  # Slightly noisy version of third pattern\n",
    "output = hopfield.recall(test_input)\n",
    "print(\"Input pattern:  \", test_input)\n",
    "print(\"Recalled pattern:\", output)"
   ]
  },
  {
   "cell_type": "code",
   "execution_count": null,
   "id": "4a80c713-2152-41a6-a296-aec1df50d527",
   "metadata": {},
   "outputs": [],
   "source": []
  }
 ],
 "metadata": {
  "kernelspec": {
   "display_name": "Python 3 (ipykernel)",
   "language": "python",
   "name": "python3"
  },
  "language_info": {
   "codemirror_mode": {
    "name": "ipython",
    "version": 3
   },
   "file_extension": ".py",
   "mimetype": "text/x-python",
   "name": "python",
   "nbconvert_exporter": "python",
   "pygments_lexer": "ipython3",
   "version": "3.12.6"
  }
 },
 "nbformat": 4,
 "nbformat_minor": 5
}
