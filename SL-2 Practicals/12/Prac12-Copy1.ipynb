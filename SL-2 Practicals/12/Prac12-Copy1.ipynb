{
 "cells": [
  {
   "cell_type": "raw",
   "id": "a4d27acb-1843-4ecd-9996-33beaa978710",
   "metadata": {},
   "source": [
    "Practial 12 : TensorFlow/Pytorch implementation of CNN\n",
    "\n",
    "https://www.kaggle.com/datasets/janzenliu/cifar-10-batches-py\n",
    "\n",
    "\n"
   ]
  },
  {
   "cell_type": "code",
   "execution_count": 2,
   "id": "a6424490-4d72-428c-8203-946673ddd326",
   "metadata": {},
   "outputs": [],
   "source": [
    "import torch\n",
    "import torch.nn as nn\n",
    "import torch.nn.functional as F\n",
    "import torch.optim as optim\n",
    "from torchvision import datasets, transforms\n",
    "from torch.utils.data import DataLoader\n",
    "import matplotlib.pyplot as plt"
   ]
  },
  {
   "cell_type": "code",
   "execution_count": 3,
   "id": "cecaeb02-abda-4de9-bd22-9d3c8cf61884",
   "metadata": {},
   "outputs": [],
   "source": [
    "# Data transformations\n",
    "transform_train = transforms.Compose([\n",
    "    transforms.RandomHorizontalFlip(),\n",
    "    transforms.RandomCrop(32, padding=4),\n",
    "    transforms.ToTensor(),\n",
    "    transforms.Normalize((0.5,), (0.5,))\n",
    "])\n",
    "\n",
    "transform_test = transforms.Compose([\n",
    "    transforms.ToTensor(),\n",
    "    transforms.Normalize((0.5,), (0.5,))\n",
    "])\n",
    "\n",
    "# Load cifar-10-batches-py dataset\n",
    "train_dataset = datasets.CIFAR10(root='./data', train=True, download=True, transform=transform_train)\n",
    "test_dataset = datasets.CIFAR10(root='./data', train=False, download=True, transform=transform_test)\n",
    "\n",
    "train_loader = DataLoader(train_dataset, batch_size=64, shuffle=True)\n",
    "test_loader = DataLoader(test_dataset, batch_size=64, shuffle=False)\n"
   ]
  },
  {
   "cell_type": "code",
   "execution_count": 4,
   "id": "541b8347-9f93-40c6-960b-8fbf98398638",
   "metadata": {},
   "outputs": [],
   "source": [
    "class CNN(nn.Module):\n",
    "    def __init__(self):\n",
    "        super(CNN, self).__init__()\n",
    "        self.conv1 = nn.Conv2d(3, 32, kernel_size=3, padding=1)\n",
    "        self.conv2 = nn.Conv2d(32, 64, kernel_size=3, padding=1)\n",
    "        self.pool = nn.MaxPool2d(2, 2)\n",
    "        self.dropout = nn.Dropout(0.3)\n",
    "        self.fc1 = nn.Linear(64 * 8 * 8, 256)\n",
    "        self.fc2 = nn.Linear(256, 10)\n",
    "\n",
    "    def forward(self, x):\n",
    "        x = self.pool(F.relu(self.conv1(x)))  # 32x32 → 16x16\n",
    "        x = self.pool(F.relu(self.conv2(x)))  # 16x16 → 8x8\n",
    "        x = x.view(-1, 64 * 8 * 8)\n",
    "        x = self.dropout(x)\n",
    "        x = F.relu(self.fc1(x))\n",
    "        x = self.fc2(x)\n",
    "        return x\n"
   ]
  },
  {
   "cell_type": "code",
   "execution_count": 5,
   "id": "89faa1b4-4b55-43c5-a88a-82c02ed2e9b1",
   "metadata": {},
   "outputs": [],
   "source": [
    "device = torch.device(\"cuda\" if torch.cuda.is_available() else \"cpu\")\n",
    "model = CNN().to(device)\n",
    "criterion = nn.CrossEntropyLoss()\n",
    "optimizer = optim.Adam(model.parameters(), lr=0.001)"
   ]
  },
  {
   "cell_type": "code",
   "execution_count": 6,
   "id": "e3a7c65b-8169-4676-a697-70002642b3b5",
   "metadata": {},
   "outputs": [
    {
     "name": "stdout",
     "output_type": "stream",
     "text": [
      "Epoch 1: Train Loss: 1.5640, Train Acc: 42.73% | Val Loss: 1.2138, Val Acc: 56.42%\n",
      "Epoch 2: Train Loss: 1.2642, Train Acc: 54.28% | Val Loss: 1.0814, Val Acc: 61.64%\n",
      "Epoch 3: Train Loss: 1.1193, Train Acc: 60.00% | Val Loss: 0.9574, Val Acc: 66.06%\n",
      "Epoch 4: Train Loss: 1.0375, Train Acc: 62.98% | Val Loss: 0.8958, Val Acc: 68.46%\n",
      "Epoch 5: Train Loss: 0.9775, Train Acc: 65.38% | Val Loss: 0.8279, Val Acc: 71.58%\n",
      "Epoch 6: Train Loss: 0.9278, Train Acc: 67.21% | Val Loss: 0.8234, Val Acc: 71.36%\n",
      "Epoch 7: Train Loss: 0.9001, Train Acc: 68.18% | Val Loss: 0.7915, Val Acc: 72.44%\n",
      "Epoch 8: Train Loss: 0.8609, Train Acc: 69.53% | Val Loss: 0.7589, Val Acc: 73.39%\n",
      "Epoch 9: Train Loss: 0.8434, Train Acc: 70.28% | Val Loss: 0.7442, Val Acc: 74.13%\n",
      "Epoch 10: Train Loss: 0.8199, Train Acc: 71.06% | Val Loss: 0.7181, Val Acc: 74.84%\n"
     ]
    }
   ],
   "source": [
    "train_losses, val_losses, train_acc, val_acc = [], [], [], []\n",
    "\n",
    "for epoch in range(10):\n",
    "    model.train()\n",
    "    running_loss, correct, total = 0.0, 0, 0\n",
    "    for images, labels in train_loader:\n",
    "        images, labels = images.to(device), labels.to(device)\n",
    "\n",
    "        optimizer.zero_grad()\n",
    "        outputs = model(images)\n",
    "        loss = criterion(outputs, labels)\n",
    "        loss.backward()\n",
    "        optimizer.step()\n",
    "\n",
    "        running_loss += loss.item()\n",
    "        _, predicted = outputs.max(1)\n",
    "        total += labels.size(0)\n",
    "        correct += predicted.eq(labels).sum().item()\n",
    "    \n",
    "    train_losses.append(running_loss / len(train_loader))\n",
    "    train_acc.append(100. * correct / total)\n",
    "\n",
    "    # Validation\n",
    "    model.eval()\n",
    "    val_loss, correct, total = 0.0, 0, 0\n",
    "    with torch.no_grad():\n",
    "        for images, labels in test_loader:\n",
    "            images, labels = images.to(device), labels.to(device)\n",
    "            outputs = model(images)\n",
    "            loss = criterion(outputs, labels)\n",
    "            val_loss += loss.item()\n",
    "            _, predicted = outputs.max(1)\n",
    "            total += labels.size(0)\n",
    "            correct += predicted.eq(labels).sum().item()\n",
    "    \n",
    "    val_losses.append(val_loss / len(test_loader))\n",
    "    val_acc.append(100. * correct / total)\n",
    "\n",
    "    print(f\"Epoch {epoch+1}: Train Loss: {train_losses[-1]:.4f}, Train Acc: {train_acc[-1]:.2f}% | Val Loss: {val_losses[-1]:.4f}, Val Acc: {val_acc[-1]:.2f}%\")"
   ]
  },
  {
   "cell_type": "code",
   "execution_count": 7,
   "id": "fb97b8aa-dd76-4007-9d18-a4eda0a74e07",
   "metadata": {},
   "outputs": [
    {
     "data": {
      "image/png": "[encoded data removed]",
      "text/plain": [
       "<Figure size 1200x400 with 2 Axes>"
      ]
     },
     "metadata": {},
     "output_type": "display_data"
    }
   ],
   "source": [
    "plt.figure(figsize=(12, 4))\n",
    "\n",
    "plt.subplot(1, 2, 1)\n",
    "plt.plot(train_losses, label='Train Loss')\n",
    "plt.plot(val_losses, label='Validation Loss')\n",
    "plt.title('Loss Curve')\n",
    "plt.xlabel('Epoch')\n",
    "plt.ylabel('Loss')\n",
    "plt.legend()\n",
    "\n",
    "plt.subplot(1, 2, 2)\n",
    "plt.plot(train_acc, label='Train Accuracy')\n",
    "plt.plot(val_acc, label='Validation Accuracy')\n",
    "plt.title('Accuracy Curve')\n",
    "plt.xlabel('Epoch')\n",
    "plt.ylabel('Accuracy')\n",
    "plt.legend()\n",
    "\n",
    "plt.show()"
   ]
  },
  {
   "cell_type": "code",
   "execution_count": 8,
   "id": "ed6d2128-d194-43ca-9785-752e920a8e8d",
   "metadata": {},
   "outputs": [
    {
     "name": "stdout",
     "output_type": "stream",
     "text": [
      "\n",
      "Test Accuracy: 74.84%\n",
      "\n",
      "Classification Report:\n",
      "\n",
      "              precision    recall  f1-score   support\n",
      "\n",
      "    airplane       0.71      0.83      0.76      1000\n",
      "  automobile       0.87      0.83      0.85      1000\n",
      "        bird       0.70      0.57      0.63      1000\n",
      "         cat       0.57      0.57      0.57      1000\n",
      "        deer       0.69      0.73      0.71      1000\n",
      "         dog       0.70      0.62      0.66      1000\n",
      "        frog       0.76      0.85      0.81      1000\n",
      "       horse       0.83      0.78      0.80      1000\n",
      "        ship       0.83      0.87      0.85      1000\n",
      "       truck       0.83      0.83      0.83      1000\n",
      "\n",
      "    accuracy                           0.75     10000\n",
      "   macro avg       0.75      0.75      0.75     10000\n",
      "weighted avg       0.75      0.75      0.75     10000\n",
      "\n"
     ]
    }
   ],
   "source": [
    "from sklearn.metrics import accuracy_score, confusion_matrix, classification_report\n",
    "import seaborn as sns\n",
    "import numpy as np\n",
    "import torch\n",
    "\n",
    "# Inference\n",
    "model.eval()\n",
    "all_preds = []\n",
    "all_labels = []\n",
    "\n",
    "with torch.no_grad():\n",
    "    for images, labels in test_loader:\n",
    "        images = images.to(device)\n",
    "        outputs = model(images)\n",
    "        _, preds = torch.max(outputs, 1)\n",
    "        all_preds.extend(preds.cpu().numpy())\n",
    "        all_labels.extend(labels.numpy())\n",
    "\n",
    "# Accuracy\n",
    "acc = accuracy_score(all_labels, all_preds)\n",
    "print(f\"\\nTest Accuracy: {acc * 100:.2f}%\\n\")\n",
    "\n",
    "# Classification Report\n",
    "print(\"Classification Report:\\n\")\n",
    "print(classification_report(all_labels, all_preds, target_names=test_dataset.classes))\n"
   ]
  },
  {
   "cell_type": "code",
   "execution_count": 1,
   "id": "944f4ddf-64c6-4100-8a0c-cad9058d669c",
   "metadata": {},
   "outputs": [
    {
     "ename": "NameError",
     "evalue": "name 'confusion_matrix' is not defined",
     "output_type": "error",
     "traceback": [
      "\u001b[1;31m---------------------------------------------------------------------------\u001b[0m",
      "\u001b[1;31mNameError\u001b[0m                                 Traceback (most recent call last)",
      "Cell \u001b[1;32mIn[1], line 2\u001b[0m\n\u001b[0;32m      1\u001b[0m \u001b[38;5;66;03m# Confusion Matrix\u001b[39;00m\n\u001b[1;32m----> 2\u001b[0m cm \u001b[38;5;241m=\u001b[39m \u001b[43mconfusion_matrix\u001b[49m(all_labels, all_preds)\n\u001b[0;32m      3\u001b[0m plt\u001b[38;5;241m.\u001b[39mfigure(figsize\u001b[38;5;241m=\u001b[39m(\u001b[38;5;241m10\u001b[39m, \u001b[38;5;241m8\u001b[39m))\n\u001b[0;32m      4\u001b[0m sns\u001b[38;5;241m.\u001b[39mheatmap(cm, annot\u001b[38;5;241m=\u001b[39m\u001b[38;5;28;01mTrue\u001b[39;00m, fmt\u001b[38;5;241m=\u001b[39m\u001b[38;5;124m'\u001b[39m\u001b[38;5;124md\u001b[39m\u001b[38;5;124m'\u001b[39m, cmap\u001b[38;5;241m=\u001b[39m\u001b[38;5;124m'\u001b[39m\u001b[38;5;124mBlues\u001b[39m\u001b[38;5;124m'\u001b[39m, xticklabels\u001b[38;5;241m=\u001b[39mtest_dataset\u001b[38;5;241m.\u001b[39mclasses, yticklabels\u001b[38;5;241m=\u001b[39mtest_dataset\u001b[38;5;241m.\u001b[39mclasses)\n",
      "\u001b[1;31mNameError\u001b[0m: name 'confusion_matrix' is not defined"
     ]
    }
   ],
   "source": [
    "# Confusion Matrix\n",
    "cm = confusion_matrix(all_labels, all_preds)\n",
    "plt.figure(figsize=(10, 8))\n",
    "sns.heatmap(cm, annot=True, fmt='d', cmap='Blues', xticklabels=test_dataset.classes, yticklabels=test_dataset.classes)\n",
    "plt.xlabel('Predicted')\n",
    "plt.ylabel('True')\n",
    "plt.title('Confusion Matrix')\n",
    "plt.show()"
   ]
  },
  {
   "cell_type": "code",
   "execution_count": null,
   "id": "c40ba904-5764-4329-be69-d767816e403c",
   "metadata": {},
   "outputs": [],
   "source": [
    "import matplotlib.pyplot as plt\n",
    "import numpy as np\n",
    "\n",
    "# Correct vs Incorrect Predictions\n",
    "correct_samples = np.array(all_preds) == np.array(all_labels)\n",
    "\n",
    "fig, axs = plt.subplots(2, 5, figsize=(12, 5))\n",
    "fig.suptitle('Correctly Classified vs Misclassified Samples')\n",
    "\n",
    "correct_idx = np.where(correct_samples)[0][:5]\n",
    "wrong_idx = np.where(~correct_samples)[0][:5]\n",
    "\n",
    "# Display Correct Predictions\n",
    "for i, idx in enumerate(correct_idx):\n",
    "    img, label = test_dataset[idx]\n",
    "    axs[0, i].imshow(img.permute(1, 2, 0) * 0.5 + 0.5)\n",
    "    axs[0, i].set_title(f\"True: {test_dataset.classes[all_labels[idx]]}\\nPred: {test_dataset.classes[all_preds[idx]]}\")\n",
    "    axs[0, i].axis('off')\n",
    "\n",
    "# Display Incorrect Predictions\n",
    "for i, idx in enumerate(wrong_idx):\n",
    "    img, label = test_dataset[idx]\n",
    "    axs[1, i].imshow(img.permute(1, 2, 0) * 0.5 + 0.5)\n",
    "    axs[1, i].set_title(f\"True: {test_dataset.classes[all_labels[idx]]}\\nPred: {test_dataset.classes[all_preds[idx]]}\")\n",
    "    axs[1, i].axis('off')\n",
    "\n",
    "plt.tight_layout()\n",
    "plt.show()\n"
   ]
  },
  {
   "cell_type": "code",
   "execution_count": null,
   "id": "a6db5115-8059-427a-bcee-ece2b5605bc4",
   "metadata": {},
   "outputs": [],
   "source": [
    "from PIL import Image\n",
    "import torchvision.transforms as transforms\n",
    "import matplotlib.pyplot as plt\n",
    "\n",
    "# Define a transform similar to test set\n",
    "user_transform = transforms.Compose([\n",
    "    transforms.Resize((32, 32)),\n",
    "    transforms.ToTensor(),\n",
    "    transforms.Normalize((0.5,), (0.5,))\n",
    "])\n",
    "\n",
    "def predict_user_image(img_path, model):\n",
    "    # Load and preprocess image\n",
    "    img = Image.open(img_path).convert('RGB')\n",
    "    input_tensor = user_transform(img).unsqueeze(0).to(device)\n",
    "\n",
    "    # Model inference\n",
    "    model.eval()\n",
    "    with torch.no_grad():\n",
    "        output = model(input_tensor)\n",
    "        _, predicted = torch.max(output, 1)\n",
    "        pred_class = test_dataset.classes[predicted.item()]\n",
    "\n",
    "    # Show image and prediction\n",
    "    plt.imshow(img)\n",
    "    plt.title(f\"Model Prediction: {pred_class}\")\n",
    "    plt.axis('off')\n",
    "    plt.show()\n",
    "\n",
    "predict_user_image(\"car.jpg\", model)"
   ]
  }
 ],
 "metadata": {
  "kernelspec": {
   "display_name": "Python 3 (ipykernel)",
   "language": "python",
   "name": "python3"
  },
  "language_info": {
   "codemirror_mode": {
    "name": "ipython",
    "version": 3
   },
   "file_extension": ".py",
   "mimetype": "text/x-python",
   "name": "python",
   "nbconvert_exporter": "python",
   "pygments_lexer": "ipython3",
   "version": "3.12.6"
  }
 },
 "nbformat": 4,
 "nbformat_minor": 5
}
