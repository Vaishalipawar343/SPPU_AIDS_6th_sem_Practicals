{
 "cells": [
  {
   "cell_type": "code",
   "execution_count": null,
   "id": "b9cf7615-9dcf-4327-983e-8aafcf36439c",
   "metadata": {},
   "outputs": [],
   "source": [
    "\"\"\"\n",
    "Practical 5\n",
    "Implement Artificial Neural Network training process in Python by using Forward Propagation, \n",
    "Back Propagation. \n",
    "\n",
    "\"\"\""
   ]
  },
  {
   "cell_type": "code",
   "execution_count": 1,
   "id": "dfe1c8cd-61ea-4907-a430-ad966cff3c3c",
   "metadata": {},
   "outputs": [
    {
     "name": "stdout",
     "output_type": "stream",
     "text": [
      "Output after Forward Propagation:\n",
      "[[0.47151531]\n",
      " [0.53028619]\n",
      " [0.47572561]\n",
      " [0.53949477]]\n"
     ]
    }
   ],
   "source": [
    "import numpy as np\n",
    "\n",
    "# Sigmoid activation function\n",
    "def sigmoid(x):\n",
    "    return 1 / (1 + np.exp(-x))\n",
    "\n",
    "# Initialize dataset (XOR problem)\n",
    "X = np.array([[0, 0], [0, 1], [1, 0], [1, 1]])  # Input\n",
    "y = np.array([[0], [1], [1], [0]])  # Expected Output\n",
    "\n",
    "# Set network parameters\n",
    "input_neurons = 2\n",
    "hidden_neurons = 4\n",
    "output_neurons = 1\n",
    "\n",
    "# Initialize weights and biases\n",
    "np.random.seed(42)\n",
    "weights_input_hidden = np.random.uniform(-1, 1, (input_neurons, hidden_neurons))\n",
    "weights_hidden_output = np.random.uniform(-1, 1, (hidden_neurons, output_neurons))\n",
    "bias_hidden = np.random.uniform(-1, 1, (1, hidden_neurons))\n",
    "bias_output = np.random.uniform(-1, 1, (1, output_neurons))\n",
    "\n",
    "# Forward Propagation\n",
    "hidden_layer_input = np.dot(X, weights_input_hidden) + bias_hidden\n",
    "hidden_layer_output = sigmoid(hidden_layer_input)\n",
    "\n",
    "output_layer_input = np.dot(hidden_layer_output, weights_hidden_output) + bias_output\n",
    "output = sigmoid(output_layer_input)\n",
    "\n",
    "print(\"Output after Forward Propagation:\")\n",
    "print(output)"
   ]
  },
  {
   "cell_type": "code",
   "execution_count": null,
   "id": "28981b03-76a2-440a-9b36-8c7c6285cb3f",
   "metadata": {},
   "outputs": [],
   "source": []
  },
  {
   "cell_type": "code",
   "execution_count": 6,
   "id": "e3dd3dba-905c-46a7-9674-5af1b732226b",
   "metadata": {},
   "outputs": [
    {
     "name": "stdout",
     "output_type": "stream",
     "text": [
      "Epoch 0, Loss: 0.5012495691702666\n",
      "Epoch 1000, Loss: 0.07892380962319563\n",
      "Epoch 2000, Loss: 0.04200729440540749\n",
      "Epoch 3000, Loss: 0.03137807616202634\n",
      "Epoch 4000, Loss: 0.025949337857365067\n",
      "Epoch 5000, Loss: 0.022544096456915925\n",
      "Epoch 6000, Loss: 0.020163626571278296\n",
      "Epoch 7000, Loss: 0.01838364481836235\n",
      "Epoch 8000, Loss: 0.0169900605067304\n",
      "Epoch 9000, Loss: 0.01586192435894144\n",
      "\n",
      "Final Output after Training:\n",
      "[[0.01572886]\n",
      " [0.98627449]\n",
      " [0.98425486]\n",
      " [0.01450469]]\n"
     ]
    }
   ],
   "source": [
    "# Sigmoid derivative function\n",
    "def sigmoid_derivative(x):\n",
    "    return x * (1 - x)\n",
    "# Learning rate\n",
    "learning_rate = 0.5\n",
    "epochs = 10000\n",
    "# Training process\n",
    "for epoch in range(epochs):\n",
    "    # Forward Propagation (same as above)\n",
    "    hidden_layer_input = np.dot(X, weights_input_hidden) + bias_hidden\n",
    "    hidden_layer_output = sigmoid(hidden_layer_input)\n",
    "    output_layer_input = np.dot(hidden_layer_output, weights_hidden_output) + bias_output\n",
    "    output = sigmoid(output_layer_input)\n",
    "    # Compute error\n",
    "    error = y - output\n",
    "    # Backward Propagation\n",
    "    output_gradient = error * sigmoid_derivative(output)\n",
    "    hidden_gradient = output_gradient.dot(weights_hidden_output.T) * sigmoid_derivative(hidden_layer_output)\n",
    "    # Update weights and biases\n",
    "    weights_hidden_output += hidden_layer_output.T.dot(output_gradient) * learning_rate\n",
    "    weights_input_hidden += X.T.dot(hidden_gradient) * learning_rate\n",
    "    bias_output += np.sum(output_gradient, axis=0, keepdims=True) * learning_rate\n",
    "    bias_hidden += np.sum(hidden_gradient, axis=0, keepdims=True) * learning_rate\n",
    "    # Print loss every 1000 epochs\n",
    "    if epoch % 1000 == 0:\n",
    "        loss = np.mean(np.abs(error))\n",
    "        print(f\"Epoch {epoch}, Loss: {loss}\")\n",
    "print(\"\\nFinal Output after Training:\")\n",
    "print(output)"
   ]
  },
  {
   "cell_type": "code",
   "execution_count": null,
   "id": "ce45bfce-27e9-4266-af3e-04e8ad8be778",
   "metadata": {},
   "outputs": [],
   "source": []
  }
 ],
 "metadata": {
  "kernelspec": {
   "display_name": "Python 3 (ipykernel)",
   "language": "python",
   "name": "python3"
  },
  "language_info": {
   "codemirror_mode": {
    "name": "ipython",
    "version": 3
   },
   "file_extension": ".py",
   "mimetype": "text/x-python",
   "name": "python",
   "nbconvert_exporter": "python",
   "pygments_lexer": "ipython3",
   "version": "3.12.6"
  }
 },
 "nbformat": 4,
 "nbformat_minor": 5
}
