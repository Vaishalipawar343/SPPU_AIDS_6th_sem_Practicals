{
 "cells": [
  {
   "cell_type": "markdown",
   "id": "6c6cc1df-0bbc-40e0-aaa4-9c87516040c8",
   "metadata": {},
   "source": [
    "SL-3 : Mini Project\n",
    "\n",
    "Use the following covid_vaccine_statewise.csv dataset and perform following analytics on the \n",
    "given dataset https://www.kaggle.com/sudalairajkumar/covid19-in-india?select=covid_vaccine_statewise.csv \n",
    "a. Describe the dataset \n",
    "b. Number of persons state wise vaccinated for first dose in India \n",
    "c. Number of persons state wise vaccinated for second dose in India \n",
    "d. Number of Males vaccinated \n",
    "e. Number of females vaccinated"
   ]
  },
  {
   "cell_type": "code",
   "execution_count": 1,
   "id": "f933f761-5339-46a6-b410-375e09c066b1",
   "metadata": {},
   "outputs": [
    {
     "data": {
      "text/html": [
       "<div>\n",
       "<style scoped>\n",
       "    .dataframe tbody tr th:only-of-type {\n",
       "        vertical-align: middle;\n",
       "    }\n",
       "\n",
       "    .dataframe tbody tr th {\n",
       "        vertical-align: top;\n",
       "    }\n",
       "\n",
       "    .dataframe thead th {\n",
       "        text-align: right;\n",
       "    }\n",
       "</style>\n",
       "<table border=\"1\" class=\"dataframe\">\n",
       "  <thead>\n",
       "    <tr style=\"text-align: right;\">\n",
       "      <th></th>\n",
       "      <th>Date</th>\n",
       "      <th>State</th>\n",
       "      <th>TotalSamples</th>\n",
       "      <th>Negative</th>\n",
       "      <th>Positive</th>\n",
       "    </tr>\n",
       "  </thead>\n",
       "  <tbody>\n",
       "    <tr>\n",
       "      <th>0</th>\n",
       "      <td>2020-04-17</td>\n",
       "      <td>Andaman and Nicobar Islands</td>\n",
       "      <td>1403.0</td>\n",
       "      <td>1210</td>\n",
       "      <td>12.0</td>\n",
       "    </tr>\n",
       "    <tr>\n",
       "      <th>1</th>\n",
       "      <td>2020-04-24</td>\n",
       "      <td>Andaman and Nicobar Islands</td>\n",
       "      <td>2679.0</td>\n",
       "      <td>NaN</td>\n",
       "      <td>27.0</td>\n",
       "    </tr>\n",
       "    <tr>\n",
       "      <th>2</th>\n",
       "      <td>2020-04-27</td>\n",
       "      <td>Andaman and Nicobar Islands</td>\n",
       "      <td>2848.0</td>\n",
       "      <td>NaN</td>\n",
       "      <td>33.0</td>\n",
       "    </tr>\n",
       "    <tr>\n",
       "      <th>3</th>\n",
       "      <td>2020-05-01</td>\n",
       "      <td>Andaman and Nicobar Islands</td>\n",
       "      <td>3754.0</td>\n",
       "      <td>NaN</td>\n",
       "      <td>33.0</td>\n",
       "    </tr>\n",
       "    <tr>\n",
       "      <th>4</th>\n",
       "      <td>2020-05-16</td>\n",
       "      <td>Andaman and Nicobar Islands</td>\n",
       "      <td>6677.0</td>\n",
       "      <td>NaN</td>\n",
       "      <td>33.0</td>\n",
       "    </tr>\n",
       "  </tbody>\n",
       "</table>\n",
       "</div>"
      ],
      "text/plain": [
       "         Date                        State  TotalSamples Negative  Positive\n",
       "0  2020-04-17  Andaman and Nicobar Islands        1403.0     1210      12.0\n",
       "1  2020-04-24  Andaman and Nicobar Islands        2679.0      NaN      27.0\n",
       "2  2020-04-27  Andaman and Nicobar Islands        2848.0      NaN      33.0\n",
       "3  2020-05-01  Andaman and Nicobar Islands        3754.0      NaN      33.0\n",
       "4  2020-05-16  Andaman and Nicobar Islands        6677.0      NaN      33.0"
      ]
     },
     "execution_count": 1,
     "metadata": {},
     "output_type": "execute_result"
    }
   ],
   "source": [
    "# Basic imports\n",
    "import pandas as pd\n",
    "import numpy as np\n",
    "import seaborn as sns\n",
    "import matplotlib.pyplot as plt\n",
    "# Machine Learning and Preprocessing\n",
    "from sklearn.model_selection import train_test_split\n",
    "from sklearn.preprocessing import LabelEncoder, MinMaxScaler\n",
    "from sklearn.ensemble import RandomForestRegressor\n",
    "from sklearn.metrics import mean_squared_error, r2_score\n",
    "df = pd.read_csv(\"StatewiseTestingDetails.csv\")\n",
    "# Preview data\n",
    "df.head()\n"
   ]
  },
  {
   "cell_type": "code",
   "execution_count": 2,
   "id": "9df57831-c2e5-4824-862c-dbf09f30bc27",
   "metadata": {},
   "outputs": [
    {
     "data": {
      "text/plain": [
       "Date                0\n",
       "State               0\n",
       "TotalSamples        0\n",
       "Negative         9367\n",
       "Positive        10674\n",
       "dtype: int64"
      ]
     },
     "execution_count": 2,
     "metadata": {},
     "output_type": "execute_result"
    }
   ],
   "source": [
    "# Check for null values\n",
    "df.isnull().sum()"
   ]
  },
  {
   "cell_type": "code",
   "execution_count": 3,
   "id": "111eb2db-8f7f-48a7-aaa9-c23d4a41be56",
   "metadata": {},
   "outputs": [
    {
     "name": "stdout",
     "output_type": "stream",
     "text": [
      "Shape after dropping nulls: (3558, 5)\n"
     ]
    }
   ],
   "source": [
    "# Drop rows with nulls (or use fillna if needed)\n",
    "df.dropna(inplace=True)\n",
    "print(\"Shape after dropping nulls:\", df.shape)"
   ]
  },
  {
   "cell_type": "code",
   "execution_count": 4,
   "id": "23419298-0469-4713-8a70-143d7b5156e7",
   "metadata": {},
   "outputs": [
    {
     "data": {
      "text/plain": [
       "Date             object\n",
       "State            object\n",
       "TotalSamples    float64\n",
       "Negative         object\n",
       "Positive        float64\n",
       "dtype: object"
      ]
     },
     "execution_count": 4,
     "metadata": {},
     "output_type": "execute_result"
    }
   ],
   "source": [
    "# Display data types\n",
    "df.dtypes\n"
   ]
  },
  {
   "cell_type": "code",
   "execution_count": 5,
   "id": "33f1b32c-c2cf-4a10-a9d9-41b094959029",
   "metadata": {},
   "outputs": [
    {
     "name": "stdout",
     "output_type": "stream",
     "text": [
      "<class 'pandas.core.frame.DataFrame'>\n",
      "Index: 3558 entries, 0 to 15843\n",
      "Data columns (total 5 columns):\n",
      " #   Column        Non-Null Count  Dtype  \n",
      "---  ------        --------------  -----  \n",
      " 0   Date          3558 non-null   object \n",
      " 1   State         3558 non-null   float64\n",
      " 2   TotalSamples  3558 non-null   float64\n",
      " 3   Negative      3558 non-null   object \n",
      " 4   Positive      3558 non-null   float64\n",
      "dtypes: float64(3), object(2)\n",
      "memory usage: 166.8+ KB\n"
     ]
    }
   ],
   "source": [
    "# Label Encoding for 'State' column if it exists\n",
    "if 'State' in df.columns:\n",
    " le = LabelEncoder()\n",
    " df['State'] = le.fit_transform(df['State'])\n",
    "# Normalize numeric columns\n",
    "scaler = MinMaxScaler()\n",
    "numeric_cols = df.select_dtypes(include=np.number).columns\n",
    "df[numeric_cols] = scaler.fit_transform(df[numeric_cols])\n",
    "# Summary of variable types\n",
    "df.info()"
   ]
  },
  {
   "cell_type": "code",
   "execution_count": 6,
   "id": "8b952c50-fe42-440d-9ab3-f5261b304cf5",
   "metadata": {},
   "outputs": [
    {
     "name": "stderr",
     "output_type": "stream",
     "text": [
      "C:\\Users\\Vaishali Pawar\\AppData\\Local\\Temp\\ipykernel_3176\\807498219.py:12: FutureWarning: \n",
      "\n",
      "Passing `palette` without assigning `hue` is deprecated and will be removed in v0.14.0. Assign the `x` variable to `hue` and set `legend=False` for the same effect.\n",
      "\n",
      "  sns.boxplot(data=df_melted, x=\"Features\", y=\"Values\",\n"
     ]
    },
    {
     "data": {
      "image/png": "[encoded data removed]",
      "text/plain": [
       "<Figure size 1600x600 with 1 Axes>"
      ]
     },
     "metadata": {},
     "output_type": "display_data"
    }
   ],
   "source": [
    "# Plot boxplots for numeric columns\n",
    "import seaborn as sns\n",
    "import matplotlib.pyplot as plt\n",
    "# Set the style\n",
    "sns.set(style=\"whitegrid\")\n",
    "# Create the figure\n",
    "plt.figure(figsize=(16, 6))\n",
    "# Melt the dataframe to long format for Seaborn\n",
    "df_melted = df[numeric_cols].melt(var_name=\"Features\",\n",
    "value_name=\"Values\")\n",
    "# Create the boxplot\n",
    "sns.boxplot(data=df_melted, x=\"Features\", y=\"Values\",\n",
    "palette=\"coolwarm\")\n",
    "# Enhance the plot\n",
    "plt.title(\"Enhanced Boxplot for Outlier Detection\", fontsize=16)\n",
    "plt.xticks(rotation=45)\n",
    "plt.xlabel(\"Features\", fontsize=12)\n",
    "plt.ylabel(\"Values\", fontsize=12)\n",
    "plt.tight_layout()\n",
    "# Show the plot\n",
    "plt.show()\n"
   ]
  },
  {
   "cell_type": "code",
   "execution_count": 7,
   "id": "8dce4ce3-b3af-45e3-8e8d-0fac4cdd0e71",
   "metadata": {},
   "outputs": [
    {
     "name": "stdout",
     "output_type": "stream",
     "text": [
      "Shape after outlier removal: (3072, 5)\n"
     ]
    }
   ],
   "source": [
    "# Optional: Remove outliers using IQR method\n",
    "Q1 = df[numeric_cols].quantile(0.25)\n",
    "Q3 = df[numeric_cols].quantile(0.75)\n",
    "IQR = Q3 - Q1\n",
    "df = df[~((df[numeric_cols] < (Q1 - 1.5 * IQR)) | (df[numeric_cols] >\n",
    "(Q3 + 1.5 * IQR))).any(axis=1)]\n",
    "print(\"Shape after outlier removal:\", df.shape)\n"
   ]
  },
  {
   "cell_type": "code",
   "execution_count": 8,
   "id": "2d7770ad-15e7-44b6-ac62-9e4ff1311237",
   "metadata": {},
   "outputs": [
    {
     "data": {
      "image/png": "[encoded data removed]",
      "text/plain": [
       "<Figure size 1200x800 with 2 Axes>"
      ]
     },
     "metadata": {},
     "output_type": "display_data"
    }
   ],
   "source": [
    "# Select only numeric columns for correlation\n",
    "numeric_df = df.select_dtypes(include=[np.number])\n",
    "# Correlation heatmap\n",
    "plt.figure(figsize=(12, 8))\n",
    "sns.heatmap(numeric_df.corr(), annot=True, cmap=\"viridis\")\n",
    "plt.title(\"Correlation Heatmap (Numeric Features Only)\")\n",
    "plt.show()\n"
   ]
  },
  {
   "cell_type": "code",
   "execution_count": 9,
   "id": "afdba736-14da-41de-b87a-9fd077f1a7fa",
   "metadata": {},
   "outputs": [
    {
     "name": "stdout",
     "output_type": "stream",
     "text": [
      "Column Names: ['Date', 'State', 'TotalSamples', 'Negative', 'Positive']\n"
     ]
    }
   ],
   "source": [
    "# Clean column names\n",
    "df.columns = df.columns.str.strip()\n",
    "# Print all column names to find correct target\n",
    "print(\"Column Names:\", df.columns.tolist())\n"
   ]
  },
  {
   "cell_type": "code",
   "execution_count": 10,
   "id": "fa26ffc3-dbb8-4feb-9a98-26dbf66dc6ab",
   "metadata": {},
   "outputs": [
    {
     "name": "stdout",
     "output_type": "stream",
     "text": [
      "Mean Squared Error: 0.0000\n",
      "R2 Score: 0.9609\n"
     ]
    }
   ],
   "source": [
    "# Load data and clean column names\n",
    "df.columns = df.columns.str.strip()\n",
    "df = df.dropna()\n",
    "# Convert 'Date' to datetime and drop it\n",
    "if 'Date' in df.columns:\n",
    " df['Date'] = pd.to_datetime(df['Date'], errors='coerce')\n",
    " df = df.drop(columns=['Date'])\n",
    "# Encode categorical variables\n",
    "for col in df.select_dtypes(include=['object']).columns:\n",
    " le = LabelEncoder()\n",
    " df[col] = le.fit_transform(df[col])\n",
    "# Define target column\n",
    "target = 'TotalSamples' # Replace with correct column if needed\n",
    "features = [col for col in df.columns if col != target]\n",
    "X = df[features]\n",
    "y = df[target]\n",
    "# Split data\n",
    "X_train, X_test, y_train, y_test = train_test_split(X, y,\n",
    "test_size=0.2, random_state=42)\n",
    "# Train model\n",
    "model = RandomForestRegressor()\n",
    "model.fit(X_train, y_train)\n",
    "# Predict\n",
    "y_pred = model.predict(X_test)\n",
    "# Evaluation\n",
    "mse = mean_squared_error(y_test, y_pred)\n",
    "r2 = r2_score(y_test, y_pred)\n",
    "print(f\"Mean Squared Error: {mse:.4f}\")\n",
    "print(f\"R2 Score: {r2:.4f}\")\n"
   ]
  },
  {
   "cell_type": "code",
   "execution_count": 11,
   "id": "535b5646-f11c-42ba-956a-d3ea804f5c3e",
   "metadata": {},
   "outputs": [
    {
     "data": {
      "image/png": "[encoded data removed]",
      "text/plain": [
       "<Figure size 1000x600 with 1 Axes>"
      ]
     },
     "metadata": {},
     "output_type": "display_data"
    }
   ],
   "source": [
    "# Plot feature importance\n",
    "importances = model.feature_importances_\n",
    "feat_imp = pd.Series(importances, index=X.columns).sort_values()\n",
    "plt.figure(figsize=(10, 6))\n",
    "feat_imp.plot(kind='barh', color='skyblue')\n",
    "plt.title('Feature Importance from Random Forest')\n",
    "plt.xlabel('Importance Score')\n",
    "plt.tight_layout()\n",
    "plt.show()"
   ]
  },
  {
   "cell_type": "code",
   "execution_count": 12,
   "id": "b3f0cd8b-3691-4f48-a7d6-d5dca5727141",
   "metadata": {},
   "outputs": [
    {
     "data": {
      "image/png": "[encoded data removed]",
      "text/plain": [
       "<Figure size 1000x500 with 1 Axes>"
      ]
     },
     "metadata": {},
     "output_type": "display_data"
    }
   ],
   "source": [
    "# Comparison plot\n",
    "plt.figure(figsize=(10, 5))\n",
    "plt.plot(y_test.values[:20], label='Actual', marker='o')\n",
    "plt.plot(y_pred[:20], label='Predicted', marker='x')\n",
    "plt.title(\"Actual vs Predicted - Second Dose Administered\")\n",
    "plt.legend()\n",
    "plt.show()"
   ]
  },
  {
   "cell_type": "code",
   "execution_count": 17,
   "id": "606586bf-7cde-4af5-b3b5-79f7d7d6ac54",
   "metadata": {},
   "outputs": [
    {
     "data": {
      "text/html": [
       "<div>\n",
       "<style scoped>\n",
       "    .dataframe tbody tr th:only-of-type {\n",
       "        vertical-align: middle;\n",
       "    }\n",
       "\n",
       "    .dataframe tbody tr th {\n",
       "        vertical-align: top;\n",
       "    }\n",
       "\n",
       "    .dataframe thead th {\n",
       "        text-align: right;\n",
       "    }\n",
       "</style>\n",
       "<table border=\"1\" class=\"dataframe\">\n",
       "  <thead>\n",
       "    <tr style=\"text-align: right;\">\n",
       "      <th></th>\n",
       "      <th>State</th>\n",
       "      <th>TotalSamples</th>\n",
       "      <th>Negative</th>\n",
       "      <th>Positive</th>\n",
       "    </tr>\n",
       "  </thead>\n",
       "  <tbody>\n",
       "    <tr>\n",
       "      <th>count</th>\n",
       "      <td>3072.000000</td>\n",
       "      <td>3072.000000</td>\n",
       "      <td>3072.000000</td>\n",
       "      <td>3072.000000</td>\n",
       "    </tr>\n",
       "    <tr>\n",
       "      <th>mean</th>\n",
       "      <td>0.543995</td>\n",
       "      <td>0.020613</td>\n",
       "      <td>1501.082357</td>\n",
       "      <td>0.007034</td>\n",
       "    </tr>\n",
       "    <tr>\n",
       "      <th>std</th>\n",
       "      <td>0.289720</td>\n",
       "      <td>0.027560</td>\n",
       "      <td>868.390409</td>\n",
       "      <td>0.010717</td>\n",
       "    </tr>\n",
       "    <tr>\n",
       "      <th>min</th>\n",
       "      <td>0.000000</td>\n",
       "      <td>0.000000</td>\n",
       "      <td>0.000000</td>\n",
       "      <td>0.000000</td>\n",
       "    </tr>\n",
       "    <tr>\n",
       "      <th>25%</th>\n",
       "      <td>0.333333</td>\n",
       "      <td>0.001330</td>\n",
       "      <td>747.750000</td>\n",
       "      <td>0.000188</td>\n",
       "    </tr>\n",
       "    <tr>\n",
       "      <th>50%</th>\n",
       "      <td>0.545455</td>\n",
       "      <td>0.006512</td>\n",
       "      <td>1494.500000</td>\n",
       "      <td>0.001237</td>\n",
       "    </tr>\n",
       "    <tr>\n",
       "      <th>75%</th>\n",
       "      <td>0.818182</td>\n",
       "      <td>0.033670</td>\n",
       "      <td>2253.250000</td>\n",
       "      <td>0.010010</td>\n",
       "    </tr>\n",
       "    <tr>\n",
       "      <th>max</th>\n",
       "      <td>1.000000</td>\n",
       "      <td>0.132808</td>\n",
       "      <td>3008.000000</td>\n",
       "      <td>0.051548</td>\n",
       "    </tr>\n",
       "  </tbody>\n",
       "</table>\n",
       "</div>"
      ],
      "text/plain": [
       "             State  TotalSamples     Negative     Positive\n",
       "count  3072.000000   3072.000000  3072.000000  3072.000000\n",
       "mean      0.543995      0.020613  1501.082357     0.007034\n",
       "std       0.289720      0.027560   868.390409     0.010717\n",
       "min       0.000000      0.000000     0.000000     0.000000\n",
       "25%       0.333333      0.001330   747.750000     0.000188\n",
       "50%       0.545455      0.006512  1494.500000     0.001237\n",
       "75%       0.818182      0.033670  2253.250000     0.010010\n",
       "max       1.000000      0.132808  3008.000000     0.051548"
      ]
     },
     "execution_count": 17,
     "metadata": {},
     "output_type": "execute_result"
    }
   ],
   "source": [
    "# Describe the dataset\n",
    "df.describe()\n"
   ]
  },
  {
   "cell_type": "code",
   "execution_count": 22,
   "id": "552c4493-f3c3-4a0d-bf5f-3e92a2091af5",
   "metadata": {},
   "outputs": [
    {
     "data": {
      "text/html": [
       "<div>\n",
       "<style scoped>\n",
       "    .dataframe tbody tr th:only-of-type {\n",
       "        vertical-align: middle;\n",
       "    }\n",
       "\n",
       "    .dataframe tbody tr th {\n",
       "        vertical-align: top;\n",
       "    }\n",
       "\n",
       "    .dataframe thead th {\n",
       "        text-align: right;\n",
       "    }\n",
       "</style>\n",
       "<table border=\"1\" class=\"dataframe\">\n",
       "  <thead>\n",
       "    <tr style=\"text-align: right;\">\n",
       "      <th></th>\n",
       "      <th>State</th>\n",
       "      <th>TotalSamples</th>\n",
       "      <th>Negative</th>\n",
       "      <th>Positive</th>\n",
       "    </tr>\n",
       "  </thead>\n",
       "  <tbody>\n",
       "    <tr>\n",
       "      <th>0</th>\n",
       "      <td>0.000000</td>\n",
       "      <td>0.000122</td>\n",
       "      <td>251</td>\n",
       "      <td>0.000007</td>\n",
       "    </tr>\n",
       "    <tr>\n",
       "      <th>453</th>\n",
       "      <td>0.030303</td>\n",
       "      <td>0.000157</td>\n",
       "      <td>211</td>\n",
       "      <td>0.000082</td>\n",
       "    </tr>\n",
       "    <tr>\n",
       "      <th>454</th>\n",
       "      <td>0.030303</td>\n",
       "      <td>0.000571</td>\n",
       "      <td>2301</td>\n",
       "      <td>0.000227</td>\n",
       "    </tr>\n",
       "    <tr>\n",
       "      <th>455</th>\n",
       "      <td>0.030303</td>\n",
       "      <td>0.000624</td>\n",
       "      <td>2456</td>\n",
       "      <td>0.000237</td>\n",
       "    </tr>\n",
       "    <tr>\n",
       "      <th>456</th>\n",
       "      <td>0.030303</td>\n",
       "      <td>0.000624</td>\n",
       "      <td>2450</td>\n",
       "      <td>0.000252</td>\n",
       "    </tr>\n",
       "  </tbody>\n",
       "</table>\n",
       "</div>"
      ],
      "text/plain": [
       "        State  TotalSamples  Negative  Positive\n",
       "0    0.000000      0.000122       251  0.000007\n",
       "453  0.030303      0.000157       211  0.000082\n",
       "454  0.030303      0.000571      2301  0.000227\n",
       "455  0.030303      0.000624      2456  0.000237\n",
       "456  0.030303      0.000624      2450  0.000252"
      ]
     },
     "execution_count": 22,
     "metadata": {},
     "output_type": "execute_result"
    }
   ],
   "source": [
    "# Reading the csv file\n",
    "data = pd.read_csv(\"covid_vaccine_statewise.csv\")\n",
    "df.head()"
   ]
  },
  {
   "cell_type": "code",
   "execution_count": 23,
   "id": "3441d63b-d377-48a0-96af-6fd7b06e98d0",
   "metadata": {},
   "outputs": [
    {
     "name": "stdout",
     "output_type": "stream",
     "text": [
      "Average of First Dose: 7414415.300354284\n"
     ]
    }
   ],
   "source": [
    "# Average of First Dose Administered\n",
    "avg_firstdose = data[\"First Dose Administered\"].astype(\"float\").mean(axis = 0)\n",
    "print(\"Average of First Dose:\", avg_firstdose)"
   ]
  },
  {
   "cell_type": "code",
   "execution_count": 26,
   "id": "681bbd52-5a0a-406c-8f41-50175aacbd8a",
   "metadata": {},
   "outputs": [
    {
     "name": "stderr",
     "output_type": "stream",
     "text": [
      "C:\\Users\\Vaishali Pawar\\AppData\\Local\\Temp\\ipykernel_3176\\3272049846.py:2: FutureWarning: A value is trying to be set on a copy of a DataFrame or Series through chained assignment using an inplace method.\n",
      "The behavior will change in pandas 3.0. This inplace method will never work because the intermediate object on which we are setting values always behaves as a copy.\n",
      "\n",
      "For example, when doing 'df[col].method(value, inplace=True)', try using 'df.method({col: value}, inplace=True)' or df[col] = df[col].method(value) instead, to perform the operation inplace on the original object.\n",
      "\n",
      "\n",
      "  data[\"First Dose Administered\"].fillna(value = avg_firstdose, inplace=True)\n"
     ]
    }
   ],
   "source": [
    "# Replacing First Dose Administered\n",
    "data[\"First Dose Administered\"].fillna(value = avg_firstdose, inplace=True)"
   ]
  },
  {
   "cell_type": "code",
   "execution_count": 27,
   "id": "5b29bb9d-1402-4976-bcf0-337f0e63dcb6",
   "metadata": {},
   "outputs": [
    {
     "name": "stdout",
     "output_type": "stream",
     "text": [
      "Average of Second Dose: 1773755.2436688098\n"
     ]
    }
   ],
   "source": [
    "# Average of Second Dose Administered\n",
    "avg_seconddose = data[\"Second Dose Administered\"].astype(\"float\").mean(axis = 0)\n",
    "print(\"Average of Second Dose:\", avg_seconddose)"
   ]
  },
  {
   "cell_type": "code",
   "execution_count": 29,
   "id": "65e4545c-f09d-48bc-9d55-c606880de1bd",
   "metadata": {},
   "outputs": [
    {
     "name": "stderr",
     "output_type": "stream",
     "text": [
      "C:\\Users\\Vaishali Pawar\\AppData\\Local\\Temp\\ipykernel_3176\\3258829007.py:2: FutureWarning: A value is trying to be set on a copy of a DataFrame or Series through chained assignment using an inplace method.\n",
      "The behavior will change in pandas 3.0. This inplace method will never work because the intermediate object on which we are setting values always behaves as a copy.\n",
      "\n",
      "For example, when doing 'df[col].method(value, inplace=True)', try using 'df.method({col: value}, inplace=True)' or df[col] = df[col].method(value) instead, to perform the operation inplace on the original object.\n",
      "\n",
      "\n",
      "  data[\"Second Dose Administered\"].fillna(value = avg_seconddose, inplace = True)\n"
     ]
    }
   ],
   "source": [
    "# Replacing Second Dose Administered\n",
    "data[\"Second Dose Administered\"].fillna(value = avg_seconddose, inplace = True)"
   ]
  },
  {
   "cell_type": "code",
   "execution_count": 30,
   "id": "7a004523-b903-40a6-a1b6-cf620a673c93",
   "metadata": {},
   "outputs": [
    {
     "data": {
      "text/html": [
       "<div>\n",
       "<style scoped>\n",
       "    .dataframe tbody tr th:only-of-type {\n",
       "        vertical-align: middle;\n",
       "    }\n",
       "\n",
       "    .dataframe tbody tr th {\n",
       "        vertical-align: top;\n",
       "    }\n",
       "\n",
       "    .dataframe thead th {\n",
       "        text-align: right;\n",
       "    }\n",
       "</style>\n",
       "<table border=\"1\" class=\"dataframe\">\n",
       "  <thead>\n",
       "    <tr style=\"text-align: right;\">\n",
       "      <th></th>\n",
       "      <th>First Dose Administered</th>\n",
       "    </tr>\n",
       "    <tr>\n",
       "      <th>State</th>\n",
       "      <th></th>\n",
       "    </tr>\n",
       "  </thead>\n",
       "  <tbody>\n",
       "    <tr>\n",
       "      <th>Andaman and Nicobar Islands</th>\n",
       "      <td>6.091235e+07</td>\n",
       "    </tr>\n",
       "    <tr>\n",
       "      <th>Andhra Pradesh</th>\n",
       "      <td>1.277347e+09</td>\n",
       "    </tr>\n",
       "    <tr>\n",
       "      <th>Arunachal Pradesh</th>\n",
       "      <td>9.349147e+07</td>\n",
       "    </tr>\n",
       "    <tr>\n",
       "      <th>Assam</th>\n",
       "      <td>6.300867e+08</td>\n",
       "    </tr>\n",
       "    <tr>\n",
       "      <th>Bihar</th>\n",
       "      <td>1.514989e+09</td>\n",
       "    </tr>\n",
       "    <tr>\n",
       "      <th>Chandigarh</th>\n",
       "      <td>8.918960e+07</td>\n",
       "    </tr>\n",
       "    <tr>\n",
       "      <th>Chhattisgarh</th>\n",
       "      <td>8.404894e+08</td>\n",
       "    </tr>\n",
       "    <tr>\n",
       "      <th>Dadra and Nagar Haveli and Daman and Diu</th>\n",
       "      <td>8.549597e+07</td>\n",
       "    </tr>\n",
       "    <tr>\n",
       "      <th>Delhi</th>\n",
       "      <td>6.762404e+08</td>\n",
       "    </tr>\n",
       "    <tr>\n",
       "      <th>Goa</th>\n",
       "      <td>1.204779e+08</td>\n",
       "    </tr>\n",
       "    <tr>\n",
       "      <th>Gujarat</th>\n",
       "      <td>2.176133e+09</td>\n",
       "    </tr>\n",
       "    <tr>\n",
       "      <th>Haryana</th>\n",
       "      <td>8.002848e+08</td>\n",
       "    </tr>\n",
       "    <tr>\n",
       "      <th>Himachal Pradesh</th>\n",
       "      <td>3.607805e+08</td>\n",
       "    </tr>\n",
       "    <tr>\n",
       "      <th>India</th>\n",
       "      <td>2.830663e+10</td>\n",
       "    </tr>\n",
       "    <tr>\n",
       "      <th>Jammu and Kashmir</th>\n",
       "      <td>4.545883e+08</td>\n",
       "    </tr>\n",
       "    <tr>\n",
       "      <th>Jharkhand</th>\n",
       "      <td>6.481602e+08</td>\n",
       "    </tr>\n",
       "    <tr>\n",
       "      <th>Karnataka</th>\n",
       "      <td>1.917816e+09</td>\n",
       "    </tr>\n",
       "    <tr>\n",
       "      <th>Kerala</th>\n",
       "      <td>1.238332e+09</td>\n",
       "    </tr>\n",
       "    <tr>\n",
       "      <th>Ladakh</th>\n",
       "      <td>6.229574e+07</td>\n",
       "    </tr>\n",
       "    <tr>\n",
       "      <th>Lakshadweep</th>\n",
       "      <td>4.885015e+07</td>\n",
       "    </tr>\n",
       "    <tr>\n",
       "      <th>Madhya Pradesh</th>\n",
       "      <td>1.841091e+09</td>\n",
       "    </tr>\n",
       "    <tr>\n",
       "      <th>Maharashtra</th>\n",
       "      <td>2.828851e+09</td>\n",
       "    </tr>\n",
       "    <tr>\n",
       "      <th>Manipur</th>\n",
       "      <td>1.118961e+08</td>\n",
       "    </tr>\n",
       "    <tr>\n",
       "      <th>Meghalaya</th>\n",
       "      <td>1.071025e+08</td>\n",
       "    </tr>\n",
       "    <tr>\n",
       "      <th>Mizoram</th>\n",
       "      <td>9.235957e+07</td>\n",
       "    </tr>\n",
       "    <tr>\n",
       "      <th>Nagaland</th>\n",
       "      <td>8.689726e+07</td>\n",
       "    </tr>\n",
       "    <tr>\n",
       "      <th>Odisha</th>\n",
       "      <td>1.077120e+09</td>\n",
       "    </tr>\n",
       "    <tr>\n",
       "      <th>Puducherry</th>\n",
       "      <td>8.583335e+07</td>\n",
       "    </tr>\n",
       "    <tr>\n",
       "      <th>Punjab</th>\n",
       "      <td>6.288331e+08</td>\n",
       "    </tr>\n",
       "    <tr>\n",
       "      <th>Rajasthan</th>\n",
       "      <td>2.245531e+09</td>\n",
       "    </tr>\n",
       "    <tr>\n",
       "      <th>Sikkim</th>\n",
       "      <td>8.146742e+07</td>\n",
       "    </tr>\n",
       "    <tr>\n",
       "      <th>Tamil Nadu</th>\n",
       "      <td>1.333019e+09</td>\n",
       "    </tr>\n",
       "    <tr>\n",
       "      <th>Telangana</th>\n",
       "      <td>9.248071e+08</td>\n",
       "    </tr>\n",
       "    <tr>\n",
       "      <th>Tripura</th>\n",
       "      <td>2.371762e+08</td>\n",
       "    </tr>\n",
       "    <tr>\n",
       "      <th>Uttar Pradesh</th>\n",
       "      <td>2.832898e+09</td>\n",
       "    </tr>\n",
       "    <tr>\n",
       "      <th>Uttarakhand</th>\n",
       "      <td>4.076779e+08</td>\n",
       "    </tr>\n",
       "    <tr>\n",
       "      <th>West Bengal</th>\n",
       "      <td>1.840936e+09</td>\n",
       "    </tr>\n",
       "  </tbody>\n",
       "</table>\n",
       "</div>"
      ],
      "text/plain": [
       "                                          First Dose Administered\n",
       "State                                                            \n",
       "Andaman and Nicobar Islands                          6.091235e+07\n",
       "Andhra Pradesh                                       1.277347e+09\n",
       "Arunachal Pradesh                                    9.349147e+07\n",
       "Assam                                                6.300867e+08\n",
       "Bihar                                                1.514989e+09\n",
       "Chandigarh                                           8.918960e+07\n",
       "Chhattisgarh                                         8.404894e+08\n",
       "Dadra and Nagar Haveli and Daman and Diu             8.549597e+07\n",
       "Delhi                                                6.762404e+08\n",
       "Goa                                                  1.204779e+08\n",
       "Gujarat                                              2.176133e+09\n",
       "Haryana                                              8.002848e+08\n",
       "Himachal Pradesh                                     3.607805e+08\n",
       "India                                                2.830663e+10\n",
       "Jammu and Kashmir                                    4.545883e+08\n",
       "Jharkhand                                            6.481602e+08\n",
       "Karnataka                                            1.917816e+09\n",
       "Kerala                                               1.238332e+09\n",
       "Ladakh                                               6.229574e+07\n",
       "Lakshadweep                                          4.885015e+07\n",
       "Madhya Pradesh                                       1.841091e+09\n",
       "Maharashtra                                          2.828851e+09\n",
       "Manipur                                              1.118961e+08\n",
       "Meghalaya                                            1.071025e+08\n",
       "Mizoram                                              9.235957e+07\n",
       "Nagaland                                             8.689726e+07\n",
       "Odisha                                               1.077120e+09\n",
       "Puducherry                                           8.583335e+07\n",
       "Punjab                                               6.288331e+08\n",
       "Rajasthan                                            2.245531e+09\n",
       "Sikkim                                               8.146742e+07\n",
       "Tamil Nadu                                           1.333019e+09\n",
       "Telangana                                            9.248071e+08\n",
       "Tripura                                              2.371762e+08\n",
       "Uttar Pradesh                                        2.832898e+09\n",
       "Uttarakhand                                          4.076779e+08\n",
       "West Bengal                                          1.840936e+09"
      ]
     },
     "execution_count": 30,
     "metadata": {},
     "output_type": "execute_result"
    }
   ],
   "source": [
    "# Number of persons state wise vaccinated for first dose\n",
    "first_dose = data.groupby('State')[['First Dose Administered']].sum()\n",
    "first_dose"
   ]
  },
  {
   "cell_type": "code",
   "execution_count": 31,
   "id": "46ccfda5-e5ef-4059-ac27-2f7f6e14faeb",
   "metadata": {},
   "outputs": [
    {
     "data": {
      "text/html": [
       "<div>\n",
       "<style scoped>\n",
       "    .dataframe tbody tr th:only-of-type {\n",
       "        vertical-align: middle;\n",
       "    }\n",
       "\n",
       "    .dataframe tbody tr th {\n",
       "        vertical-align: top;\n",
       "    }\n",
       "\n",
       "    .dataframe thead th {\n",
       "        text-align: right;\n",
       "    }\n",
       "</style>\n",
       "<table border=\"1\" class=\"dataframe\">\n",
       "  <thead>\n",
       "    <tr style=\"text-align: right;\">\n",
       "      <th></th>\n",
       "      <th>Second Dose Administered</th>\n",
       "    </tr>\n",
       "    <tr>\n",
       "      <th>State</th>\n",
       "      <th></th>\n",
       "    </tr>\n",
       "  </thead>\n",
       "  <tbody>\n",
       "    <tr>\n",
       "      <th>Andaman and Nicobar Islands</th>\n",
       "      <td>1.476109e+07</td>\n",
       "    </tr>\n",
       "    <tr>\n",
       "      <th>Andhra Pradesh</th>\n",
       "      <td>3.694601e+08</td>\n",
       "    </tr>\n",
       "    <tr>\n",
       "      <th>Arunachal Pradesh</th>\n",
       "      <td>2.257485e+07</td>\n",
       "    </tr>\n",
       "    <tr>\n",
       "      <th>Assam</th>\n",
       "      <td>1.414313e+08</td>\n",
       "    </tr>\n",
       "    <tr>\n",
       "      <th>Bihar</th>\n",
       "      <td>2.814331e+08</td>\n",
       "    </tr>\n",
       "    <tr>\n",
       "      <th>Chandigarh</th>\n",
       "      <td>2.223627e+07</td>\n",
       "    </tr>\n",
       "    <tr>\n",
       "      <th>Chhattisgarh</th>\n",
       "      <td>1.827629e+08</td>\n",
       "    </tr>\n",
       "    <tr>\n",
       "      <th>Dadra and Nagar Haveli and Daman and Diu</th>\n",
       "      <td>1.701070e+07</td>\n",
       "    </tr>\n",
       "    <tr>\n",
       "      <th>Delhi</th>\n",
       "      <td>2.006352e+08</td>\n",
       "    </tr>\n",
       "    <tr>\n",
       "      <th>Goa</th>\n",
       "      <td>2.684071e+07</td>\n",
       "    </tr>\n",
       "    <tr>\n",
       "      <th>Gujarat</th>\n",
       "      <td>6.110609e+08</td>\n",
       "    </tr>\n",
       "    <tr>\n",
       "      <th>Haryana</th>\n",
       "      <td>1.692986e+08</td>\n",
       "    </tr>\n",
       "    <tr>\n",
       "      <th>Himachal Pradesh</th>\n",
       "      <td>8.448111e+07</td>\n",
       "    </tr>\n",
       "    <tr>\n",
       "      <th>India</th>\n",
       "      <td>6.770264e+09</td>\n",
       "    </tr>\n",
       "    <tr>\n",
       "      <th>Jammu and Kashmir</th>\n",
       "      <td>9.659418e+07</td>\n",
       "    </tr>\n",
       "    <tr>\n",
       "      <th>Jharkhand</th>\n",
       "      <td>1.327636e+08</td>\n",
       "    </tr>\n",
       "    <tr>\n",
       "      <th>Karnataka</th>\n",
       "      <td>4.378297e+08</td>\n",
       "    </tr>\n",
       "    <tr>\n",
       "      <th>Kerala</th>\n",
       "      <td>3.746913e+08</td>\n",
       "    </tr>\n",
       "    <tr>\n",
       "      <th>Ladakh</th>\n",
       "      <td>1.609629e+07</td>\n",
       "    </tr>\n",
       "    <tr>\n",
       "      <th>Lakshadweep</th>\n",
       "      <td>1.169898e+07</td>\n",
       "    </tr>\n",
       "    <tr>\n",
       "      <th>Madhya Pradesh</th>\n",
       "      <td>3.275755e+08</td>\n",
       "    </tr>\n",
       "    <tr>\n",
       "      <th>Maharashtra</th>\n",
       "      <td>7.235236e+08</td>\n",
       "    </tr>\n",
       "    <tr>\n",
       "      <th>Manipur</th>\n",
       "      <td>2.250068e+07</td>\n",
       "    </tr>\n",
       "    <tr>\n",
       "      <th>Meghalaya</th>\n",
       "      <td>2.280916e+07</td>\n",
       "    </tr>\n",
       "    <tr>\n",
       "      <th>Mizoram</th>\n",
       "      <td>2.064095e+07</td>\n",
       "    </tr>\n",
       "    <tr>\n",
       "      <th>Nagaland</th>\n",
       "      <td>1.984717e+07</td>\n",
       "    </tr>\n",
       "    <tr>\n",
       "      <th>Odisha</th>\n",
       "      <td>2.619453e+08</td>\n",
       "    </tr>\n",
       "    <tr>\n",
       "      <th>Puducherry</th>\n",
       "      <td>1.925139e+07</td>\n",
       "    </tr>\n",
       "    <tr>\n",
       "      <th>Punjab</th>\n",
       "      <td>1.317635e+08</td>\n",
       "    </tr>\n",
       "    <tr>\n",
       "      <th>Rajasthan</th>\n",
       "      <td>5.023455e+08</td>\n",
       "    </tr>\n",
       "    <tr>\n",
       "      <th>Sikkim</th>\n",
       "      <td>2.036617e+07</td>\n",
       "    </tr>\n",
       "    <tr>\n",
       "      <th>Tamil Nadu</th>\n",
       "      <td>3.013132e+08</td>\n",
       "    </tr>\n",
       "    <tr>\n",
       "      <th>Telangana</th>\n",
       "      <td>2.087955e+08</td>\n",
       "    </tr>\n",
       "    <tr>\n",
       "      <th>Tripura</th>\n",
       "      <td>7.591267e+07</td>\n",
       "    </tr>\n",
       "    <tr>\n",
       "      <th>Uttar Pradesh</th>\n",
       "      <td>5.650776e+08</td>\n",
       "    </tr>\n",
       "    <tr>\n",
       "      <th>Uttarakhand</th>\n",
       "      <td>1.107276e+08</td>\n",
       "    </tr>\n",
       "    <tr>\n",
       "      <th>West Bengal</th>\n",
       "      <td>5.967894e+08</td>\n",
       "    </tr>\n",
       "  </tbody>\n",
       "</table>\n",
       "</div>"
      ],
      "text/plain": [
       "                                          Second Dose Administered\n",
       "State                                                             \n",
       "Andaman and Nicobar Islands                           1.476109e+07\n",
       "Andhra Pradesh                                        3.694601e+08\n",
       "Arunachal Pradesh                                     2.257485e+07\n",
       "Assam                                                 1.414313e+08\n",
       "Bihar                                                 2.814331e+08\n",
       "Chandigarh                                            2.223627e+07\n",
       "Chhattisgarh                                          1.827629e+08\n",
       "Dadra and Nagar Haveli and Daman and Diu              1.701070e+07\n",
       "Delhi                                                 2.006352e+08\n",
       "Goa                                                   2.684071e+07\n",
       "Gujarat                                               6.110609e+08\n",
       "Haryana                                               1.692986e+08\n",
       "Himachal Pradesh                                      8.448111e+07\n",
       "India                                                 6.770264e+09\n",
       "Jammu and Kashmir                                     9.659418e+07\n",
       "Jharkhand                                             1.327636e+08\n",
       "Karnataka                                             4.378297e+08\n",
       "Kerala                                                3.746913e+08\n",
       "Ladakh                                                1.609629e+07\n",
       "Lakshadweep                                           1.169898e+07\n",
       "Madhya Pradesh                                        3.275755e+08\n",
       "Maharashtra                                           7.235236e+08\n",
       "Manipur                                               2.250068e+07\n",
       "Meghalaya                                             2.280916e+07\n",
       "Mizoram                                               2.064095e+07\n",
       "Nagaland                                              1.984717e+07\n",
       "Odisha                                                2.619453e+08\n",
       "Puducherry                                            1.925139e+07\n",
       "Punjab                                                1.317635e+08\n",
       "Rajasthan                                             5.023455e+08\n",
       "Sikkim                                                2.036617e+07\n",
       "Tamil Nadu                                            3.013132e+08\n",
       "Telangana                                             2.087955e+08\n",
       "Tripura                                               7.591267e+07\n",
       "Uttar Pradesh                                         5.650776e+08\n",
       "Uttarakhand                                           1.107276e+08\n",
       "West Bengal                                           5.967894e+08"
      ]
     },
     "execution_count": 31,
     "metadata": {},
     "output_type": "execute_result"
    }
   ],
   "source": [
    "# Number of persons state wise vaccinated for second\n",
    "first_dose = data.groupby('State')[['Second Dose Administered']].sum()\n",
    "first_dose"
   ]
  },
  {
   "cell_type": "code",
   "execution_count": 32,
   "id": "081539f4-b209-440d-827e-c5a296d8e3e1",
   "metadata": {},
   "outputs": [
    {
     "name": "stdout",
     "output_type": "stream",
     "text": [
      "The total number of male individuals vaccinated are 7138698858\n"
     ]
    }
   ],
   "source": [
    "# Number of Males vaccinated\n",
    "male = data[\"Male(Individuals Vaccinated)\"].sum()\n",
    "print(\"The total number of male individuals vaccinated are\", int(male))"
   ]
  },
  {
   "cell_type": "code",
   "execution_count": 33,
   "id": "32f87da0-51cb-4158-aea9-5f6183b8ca0c",
   "metadata": {},
   "outputs": [
    {
     "name": "stdout",
     "output_type": "stream",
     "text": [
      "The total number of female individuals vaccinated are 6321628736\n"
     ]
    }
   ],
   "source": [
    "# Number of females vaccinated\n",
    "female = data[\"Female(Individuals Vaccinated)\"].sum()\n",
    "print(\"The total number of female individuals vaccinated are\", int(female))"
   ]
  },
  {
   "cell_type": "code",
   "execution_count": null,
   "id": "7510c690-b1e0-4e19-a398-eb3b0354ca5a",
   "metadata": {},
   "outputs": [],
   "source": []
  }
 ],
 "metadata": {
  "kernelspec": {
   "display_name": "Python 3 (ipykernel)",
   "language": "python",
   "name": "python3"
  },
  "language_info": {
   "codemirror_mode": {
    "name": "ipython",
    "version": 3
   },
   "file_extension": ".py",
   "mimetype": "text/x-python",
   "name": "python",
   "nbconvert_exporter": "python",
   "pygments_lexer": "ipython3",
   "version": "3.12.6"
  }
 },
 "nbformat": 4,
 "nbformat_minor": 5
}
