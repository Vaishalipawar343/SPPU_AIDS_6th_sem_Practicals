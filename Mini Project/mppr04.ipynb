{
 "cells": [
  {
   "cell_type": "markdown",
   "id": "edc70964-ef9a-42c2-8174-eab4927b2ca2",
   "metadata": {},
   "source": [
    "practical 4 : Implementation of RSA."
   ]
  },
  {
   "cell_type": "code",
   "execution_count": 2,
   "id": "e6a38c11-3f7c-4357-95de-5014fac1c6f9",
   "metadata": {},
   "outputs": [
    {
     "name": "stdin",
     "output_type": "stream",
     "text": [
      "Enter the value for p:  61\n",
      "Enter the value for q:  53\n"
     ]
    },
    {
     "name": "stdout",
     "output_type": "stream",
     "text": [
      "n = 3233\n"
     ]
    },
    {
     "name": "stdin",
     "output_type": "stream",
     "text": [
      "Enter the value for e:  17\n"
     ]
    },
    {
     "name": "stdout",
     "output_type": "stream",
     "text": [
      "e = 17\n",
      "d = 2753\n",
      "Public key: (17, 3233)\n",
      "Private key: (2753, 3233)\n"
     ]
    },
    {
     "name": "stdin",
     "output_type": "stream",
     "text": [
      "Enter the message:  123\n"
     ]
    },
    {
     "name": "stdout",
     "output_type": "stream",
     "text": [
      "Original message: 123\n",
      "Encrypted message: 855\n",
      "Decrypted message: 123\n"
     ]
    }
   ],
   "source": [
    "import math\n",
    "\n",
    "# Step 1: Get Prime Numbers\n",
    "p = int(input('Enter the value for p: '))\n",
    "q = int(input('Enter the value for q: '))\n",
    "\n",
    "# Step 2: Compute n\n",
    "n = p * q\n",
    "print(\"n =\", n)\n",
    "\n",
    "# Step 3: Compute Euler's Totient Function (phi)\n",
    "phi = (p - 1) * (q - 1)\n",
    "\n",
    "# Step 4: Choose Public Key `e`\n",
    "e = int(input('Enter the value for e: '))  \n",
    "while e < phi:\n",
    "    if math.gcd(e, phi) == 1:  \n",
    "        break\n",
    "    else:\n",
    "        e += 1\n",
    "\n",
    "print(\"e =\", e)\n",
    "\n",
    "# Step 5: Compute Private Key `d` (Modular Inverse of e mod phi)\n",
    "def mod_inverse(e, phi):\n",
    "    for d in range(2, phi):\n",
    "        if (d * e) % phi == 1:\n",
    "            return d\n",
    "    return None  # Should never happen with proper input\n",
    "\n",
    "d = mod_inverse(e, phi)\n",
    "print(\"d =\", d)\n",
    "\n",
    "# Step 6: Public & Private Keys\n",
    "print(f'Public key: ({e}, {n})')\n",
    "print(f'Private key: ({d}, {n})')\n",
    "\n",
    "# Step 7: Encryption\n",
    "msg = int(input('Enter the message: '))\n",
    "print(f'Original message: {msg}')\n",
    "\n",
    "C = pow(msg, e, n)  # Encrypt message\n",
    "print(f'Encrypted message: {C}')\n",
    "\n",
    "# Step 8: Decryption\n",
    "M = pow(C, d, n)  # Decrypt message\n",
    "print(f'Decrypted message: {M}')\n"
   ]
  },
  {
   "cell_type": "code",
   "execution_count": null,
   "id": "46282e12-4a87-4364-9c31-d0fe0d1f77cb",
   "metadata": {},
   "outputs": [],
   "source": []
  }
 ],
 "metadata": {
  "kernelspec": {
   "display_name": "Python 3 (ipykernel)",
   "language": "python",
   "name": "python3"
  },
  "language_info": {
   "codemirror_mode": {
    "name": "ipython",
    "version": 3
   },
   "file_extension": ".py",
   "mimetype": "text/x-python",
   "name": "python",
   "nbconvert_exporter": "python",
   "pygments_lexer": "ipython3",
   "version": "3.12.6"
  }
 },
 "nbformat": 4,
 "nbformat_minor": 5
}
