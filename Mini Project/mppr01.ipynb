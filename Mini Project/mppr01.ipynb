{
 "cells": [
  {
   "cell_type": "markdown",
   "id": "5b4e4fe2-8d49-4f46-b5ea-87d5c24e35b3",
   "metadata": {},
   "source": [
    "practical 1  :  Implementation of S-DES"
   ]
  },
  {
   "cell_type": "code",
   "execution_count": 2,
   "id": "303749d8-40da-4879-9f55-89c2316997a0",
   "metadata": {},
   "outputs": [
    {
     "name": "stdin",
     "output_type": "stream",
     "text": [
      "Input the plain text:  hello\n"
     ]
    },
    {
     "name": "stdout",
     "output_type": "stream",
     "text": [
      "Plain text : hello\n",
      "Encrypted  : ['11101111', '01010100', '10101010', '10101010', '11000011']\n",
      "Decrypted  : hello\n"
     ]
    }
   ],
   "source": [
    "import numpy as np\n",
    "\n",
    "# Permutation and S-box definitions\n",
    "IP          = (2, 6, 3, 1, 4, 8, 5, 7)\n",
    "IP_INVERSE  = (4, 1, 3, 5, 7, 2, 8, 6)\n",
    "E           = (4, 1, 2, 3, 2, 3, 4, 1)\n",
    "P10         = (3, 5, 2, 7, 4, 10, 1, 9, 8, 6)\n",
    "P8          = (6, 3, 7, 4, 8, 5, 10, 9)\n",
    "P4          = (2, 4, 3, 1)\n",
    "S0          = np.array([1,0,3,2,3,2,1,0,0,2,1,3,3,1,3,2]).reshape(4,4)\n",
    "S1          = np.array([0,1,2,3,2,0,1,3,3,0,1,0,2,1,0,3]).reshape(4,4)\n",
    "\n",
    "KEY = '0111111101'\n",
    "\n",
    "# Helper functions\n",
    "def left(x): return x[:len(x)//2]\n",
    "def right(x): return x[len(x)//2:]\n",
    "\n",
    "def permutation(original, key):\n",
    "    return ''.join(original[i-1] for i in key)\n",
    "\n",
    "def shift(bit):\n",
    "    return left(bit)[1:] + left(bit)[0] + right(bit)[1:] + right(bit)[0]\n",
    "\n",
    "def genfirstKey():\n",
    "    rotated = shift(permutation(KEY, P10))\n",
    "    return permutation(rotated, P8)\n",
    "\n",
    "def gensecondKey():\n",
    "    rotated = shift(shift(shift(permutation(KEY, P10))))\n",
    "    return permutation(rotated, P8)\n",
    "\n",
    "def xor(bit, key):\n",
    "    return ''.join(str((int(i) + int(j)) % 2) for i, j in zip(bit, key))\n",
    "\n",
    "def SBox(bit, sbox): \n",
    "    row = int(bit[0] + bit[3], 2)\n",
    "    col = int(bit[1] + bit[2], 2)\n",
    "    return '{0:02b}'.format(sbox[row][col])\n",
    "\n",
    "def Fk(bit, key):\n",
    "    L, R = left(bit), right(bit)\n",
    "    bit = xor(permutation(R, E), key)\n",
    "    bit = SBox(left(bit), S0) + SBox(right(bit), S1)\n",
    "    bit = permutation(bit, P4)\n",
    "    return xor(bit, L)\n",
    "\n",
    "def encrypt(plain):\n",
    "    bit = permutation(plain, IP) \n",
    "    tmp = Fk(bit, genfirstKey())\n",
    "    bit = right(bit) + tmp\n",
    "    bit = Fk(bit, gensecondKey())\n",
    "    return permutation(bit + tmp, IP_INVERSE)\n",
    "\n",
    "def decrypt(enc):\n",
    "    bit = permutation(enc, IP)\n",
    "    tmp = Fk(bit, gensecondKey())\n",
    "    bit = right(bit) + tmp\n",
    "    bit = Fk(bit, genfirstKey())\n",
    "    return permutation(bit + tmp, IP_INVERSE)\n",
    "\n",
    "# Main function\n",
    "def main():\n",
    "    _plain = input(\"Input the plain text: \")\n",
    "    print('Plain text :', _plain)\n",
    "    \n",
    "    _encry = [encrypt(bin(ord(x))[2:].zfill(8)) for x in _plain]\n",
    "    _decry = [chr(int(decrypt(x), 2)) for x in _encry]\n",
    "\n",
    "    print('Encrypted  :', _encry)\n",
    "    print('Decrypted  :', ''.join(_decry))\n",
    "\n",
    "# Corrected main entry point\n",
    "if __name__ == '__main__':\n",
    "    main()\n"
   ]
  },
  {
   "cell_type": "code",
   "execution_count": null,
   "id": "cb9d5030-5726-4b6d-b3b3-c254a1db6160",
   "metadata": {},
   "outputs": [],
   "source": []
  }
 ],
 "metadata": {
  "kernelspec": {
   "display_name": "Python 3 (ipykernel)",
   "language": "python",
   "name": "python3"
  },
  "language_info": {
   "codemirror_mode": {
    "name": "ipython",
    "version": 3
   },
   "file_extension": ".py",
   "mimetype": "text/x-python",
   "name": "python",
   "nbconvert_exporter": "python",
   "pygments_lexer": "ipython3",
   "version": "3.12.6"
  }
 },
 "nbformat": 4,
 "nbformat_minor": 5
}
