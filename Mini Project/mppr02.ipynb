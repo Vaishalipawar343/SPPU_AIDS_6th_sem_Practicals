{
 "cells": [
  {
   "cell_type": "markdown",
   "id": "8c47ead9-4963-4596-88c8-eb4c6ee94ec2",
   "metadata": {},
   "source": [
    "practical 2 : Implementation of S-AES"
   ]
  },
  {
   "cell_type": "code",
   "execution_count": 7,
   "id": "57104025-fe59-444e-95f9-af656dcc0c95",
   "metadata": {},
   "outputs": [
    {
     "name": "stdin",
     "output_type": "stream",
     "text": [
      "Enter 16-bit plaintext in hex (e.g., D728):  D728\n",
      "Enter 16-bit key in hex (e.g., 4AF5):  4AF5\n"
     ]
    },
    {
     "name": "stdout",
     "output_type": "stream",
     "text": [
      "Encrypted Ciphertext (hex): 0XBB5B1A\n"
     ]
    }
   ],
   "source": [
    "# 4-bit S-box and inverse S-box\n",
    "SBOX = [0x9, 0x4, 0xA, 0xB,\n",
    "        0xD, 0x1, 0x8, 0x5,\n",
    "        0x6, 0x2, 0x0, 0x3,\n",
    "        0xC, 0xE, 0xF, 0x7]\n",
    "\n",
    "SBOX_INV = [0xA, 0x5, 0x9, 0xB,\n",
    "            0x1, 0x7, 0x8, 0xF,\n",
    "            0x6, 0x0, 0x2, 0x3,\n",
    "            0xC, 0x4, 0xD, 0xE]\n",
    "\n",
    "# Multiply in GF(2^4)\n",
    "def mult(a, b):\n",
    "    p = 0\n",
    "    for _ in range(4):\n",
    "        if b & 1:\n",
    "            p ^= a\n",
    "        carry = a & 0x8\n",
    "        a = (a << 1) & 0xF\n",
    "        if carry:\n",
    "            a ^= 0x3  # modulo x⁴ + x + 1 (0b11)\n",
    "        b >>= 1\n",
    "    return p & 0xF\n",
    "\n",
    "def sub_nibbles(s):\n",
    "    result = 0\n",
    "    for i in range(4):\n",
    "        nibble = (s >> (4 * (3 - i))) & 0xF\n",
    "        result |= (SBOX[nibble] << (4 * (3 - i)))\n",
    "    return result\n",
    "\n",
    "def shift_rows(s):\n",
    "    # Swap the lower nibbles (simulate 2x2 matrix row shift)\n",
    "    upper = (s & 0xF000) | (s & 0x0F00)\n",
    "    lower = (s & 0x00F0) << 4 | (s & 0x000F) >> 4\n",
    "    return upper | lower\n",
    "\n",
    "def mix_columns(s):\n",
    "    # Convert to 2x2 matrix form and apply MixColumns transformation\n",
    "    s0 = (s >> 12) & 0xF\n",
    "    s1 = (s >> 8) & 0xF\n",
    "    s2 = (s >> 4) & 0xF\n",
    "    s3 = s & 0xF\n",
    "\n",
    "    m0 = mult(1, s0) ^ mult(4, s2)\n",
    "    m1 = mult(1, s1) ^ mult(4, s3)\n",
    "    m2 = mult(4, s0) ^ mult(1, s2)\n",
    "    m3 = mult(4, s1) ^ mult(1, s3)\n",
    "\n",
    "    return (m0 << 12) | (m1 << 8) | (m2 << 4) | m3\n",
    "\n",
    "def add_round_key(s, k):\n",
    "    return s ^ k\n",
    "\n",
    "def key_expansion(key):\n",
    "    RCON1 = 0x80\n",
    "    RCON2 = 0x30\n",
    "\n",
    "    w = [0] * 6\n",
    "    w[0] = key >> 8\n",
    "    w[1] = key & 0xFF\n",
    "    w[2] = w[0] ^ RCON1 ^ sub_nibbles(w[1])\n",
    "    w[3] = w[2] ^ w[1]\n",
    "    w[4] = w[2] ^ RCON2 ^ sub_nibbles(w[3])\n",
    "    w[5] = w[4] ^ w[3]\n",
    "    return [(w[0] << 8) | w[1], (w[2] << 8) | w[3], (w[4] << 8) | w[5]]\n",
    "\n",
    "def s_aes_encrypt(plaintext, key):\n",
    "    round_keys = key_expansion(key)\n",
    "\n",
    "    # Initial round key\n",
    "    state = add_round_key(plaintext, round_keys[0])\n",
    "\n",
    "    # Round 1\n",
    "    state = sub_nibbles(state)\n",
    "    state = shift_rows(state)\n",
    "    state = mix_columns(state)\n",
    "    state = add_round_key(state, round_keys[1])\n",
    "\n",
    "    # Round 2 (Final round)\n",
    "    state = sub_nibbles(state)\n",
    "    state = shift_rows(state)\n",
    "    state = add_round_key(state, round_keys[2])\n",
    "\n",
    "    return state\n",
    "\n",
    "# 🔽 Take user input for plaintext and key\n",
    "plaintext_hex = input(\"Enter 16-bit plaintext in hex (e.g., D728): \")\n",
    "key_hex = input(\"Enter 16-bit key in hex (e.g., 4AF5): \")\n",
    "\n",
    "try:\n",
    "    # Convert from hex string to integer\n",
    "    plaintext = int(plaintext_hex, 16)\n",
    "    key = int(key_hex, 16)\n",
    "\n",
    "    # Encrypt and display result\n",
    "    ciphertext = s_aes_encrypt(plaintext, key)\n",
    "    print(\"Encrypted Ciphertext (hex):\", hex(ciphertext).upper())\n",
    "\n",
    "except ValueError:\n",
    "    print(\"Invalid hex input. Please enter valid 4-digit hex values (0–FFFF).\")\n"
   ]
  },
  {
   "cell_type": "code",
   "execution_count": null,
   "id": "69921511-1a37-41f3-b05a-a1630e233e67",
   "metadata": {},
   "outputs": [],
   "source": []
  }
 ],
 "metadata": {
  "kernelspec": {
   "display_name": "Python 3 (ipykernel)",
   "language": "python",
   "name": "python3"
  },
  "language_info": {
   "codemirror_mode": {
    "name": "ipython",
    "version": 3
   },
   "file_extension": ".py",
   "mimetype": "text/x-python",
   "name": "python",
   "nbconvert_exporter": "python",
   "pygments_lexer": "ipython3",
   "version": "3.12.6"
  }
 },
 "nbformat": 4,
 "nbformat_minor": 5
}
