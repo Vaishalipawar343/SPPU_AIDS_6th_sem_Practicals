{
 "cells": [
  {
   "cell_type": "markdown",
   "id": "c459266f-b6c4-4441-b070-cbd7fa7bf45c",
   "metadata": {},
   "source": [
    "practical 3 : Implementation of Diffie-Hellman key exchange"
   ]
  },
  {
   "cell_type": "code",
   "execution_count": 1,
   "id": "4b93a609-c903-4b82-bea5-8c5c75dc8835",
   "metadata": {},
   "outputs": [
    {
     "name": "stdin",
     "output_type": "stream",
     "text": [
      "Enter the value for p:  4\n",
      "Enter the value for g:  3\n"
     ]
    },
    {
     "name": "stdout",
     "output_type": "stream",
     "text": [
      "Alice's secret key: 1\n",
      "Bob's secret key: 4\n",
      "Shared secret key: 1\n"
     ]
    }
   ],
   "source": [
    "from random import randint \n",
    "\n",
    "# Shared prime number\n",
    "p = int(input('Enter the value for p: ')) \n",
    "\n",
    "# Shared base\n",
    "g = int(input('Enter the value for g: ')) \n",
    "\n",
    "# Alice's secret key\n",
    "a = randint(1, p)  \n",
    "\n",
    "# Bob's secret key\n",
    "b = randint(1, p)  \n",
    "\n",
    "# Alice sends g^a to Bob\n",
    "A = (g ** a) % p  \n",
    "\n",
    "# Bob sends g^b to Alice\n",
    "B = (g ** b) % p  \n",
    "\n",
    "# Compute the shared secret key\n",
    "s1 = (B ** a) % p  \n",
    "s2 = (A ** b) % p  \n",
    "\n",
    "# Verify that the shared secret keys are the same\n",
    "assert s1 == s2, \"Shared secret keys do not match!\"\n",
    "\n",
    "# Print results\n",
    "print(\"Alice's secret key:\", a) \n",
    "print(\"Bob's secret key:\", b) \n",
    "print(\"Shared secret key:\", s1)\n"
   ]
  },
  {
   "cell_type": "code",
   "execution_count": null,
   "id": "4eee49f6-7452-4262-ad6e-f4db42a15f9c",
   "metadata": {},
   "outputs": [],
   "source": []
  }
 ],
 "metadata": {
  "kernelspec": {
   "display_name": "Python 3 (ipykernel)",
   "language": "python",
   "name": "python3"
  },
  "language_info": {
   "codemirror_mode": {
    "name": "ipython",
    "version": 3
   },
   "file_extension": ".py",
   "mimetype": "text/x-python",
   "name": "python",
   "nbconvert_exporter": "python",
   "pygments_lexer": "ipython3",
   "version": "3.12.6"
  }
 },
 "nbformat": 4,
 "nbformat_minor": 5
}
