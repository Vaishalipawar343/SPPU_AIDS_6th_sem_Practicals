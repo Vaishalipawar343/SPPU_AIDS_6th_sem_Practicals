{
 "cells": [
  {
   "cell_type": "markdown",
   "id": "8f307b58-3754-41b2-9b26-107f6fb059fa",
   "metadata": {},
   "source": [
    "practical 5 : Implementation of ECC algorithm."
   ]
  },
  {
   "cell_type": "code",
   "execution_count": 2,
   "id": "90bf4c3e-1043-4a3d-a242-884e14e3316f",
   "metadata": {},
   "outputs": [],
   "source": [
    "#  Cell 1: Define the EllipticCurve Class\n",
    "\n",
    "class EllipticCurve:\n",
    "    def __init__(self, a, b, p):\n",
    "        self.a = a\n",
    "        self.b = b\n",
    "        self.p = p\n",
    "\n",
    "    def is_on_curve(self, point):\n",
    "        if point is None:\n",
    "            return True\n",
    "        x, y = point\n",
    "        return (y**2 - (x**3 + self.a * x + self.b)) % self.p == 0\n",
    "\n",
    "    def inverse_mod(self, k):\n",
    "        # Return modular inverse of k mod p\n",
    "        return pow(k, -1, self.p)\n",
    "\n",
    "    def point_add(self, p1, p2):\n",
    "        if p1 is None:\n",
    "            return p2\n",
    "        if p2 is None:\n",
    "            return p1\n",
    "\n",
    "        x1, y1 = p1\n",
    "        x2, y2 = p2\n",
    "\n",
    "        if x1 == x2 and (y1 != y2 or y1 == 0):\n",
    "            return None  # Point at infinity\n",
    "\n",
    "        if p1 == p2:\n",
    "            m = (3 * x1 * x1 + self.a) * self.inverse_mod(2 * y1)\n",
    "        else:\n",
    "            m = (y2 - y1) * self.inverse_mod(x2 - x1)\n",
    "\n",
    "        m %= self.p\n",
    "        x3 = (m * m - x1 - x2) % self.p\n",
    "        y3 = (m * (x1 - x3) - y1) % self.p\n",
    "        return (x3, y3)\n",
    "\n",
    "    def scalar_mult(self, k, point):\n",
    "        result = None\n",
    "        addend = point\n",
    "\n",
    "        while k:\n",
    "            if k & 1:\n",
    "                result = self.point_add(result, addend)\n",
    "            addend = self.point_add(addend, addend)\n",
    "            k >>= 1\n",
    "\n",
    "        return result\n"
   ]
  },
  {
   "cell_type": "code",
   "execution_count": 11,
   "id": "08f1095b-c634-4374-8638-3f292a8c33ef",
   "metadata": {},
   "outputs": [
    {
     "name": "stdout",
     "output_type": "stream",
     "text": [
      "Alice's Public Key: (80, 10)\n",
      "Bob's Public Key: (80, 87)\n",
      "Shared Secret (Alice): (3, 6)\n",
      "Shared Secret (Bob):   (3, 6)\n"
     ]
    }
   ],
   "source": [
    " # Cell 2: Generate Keys\n",
    "# Define elliptic curve: y^2 = x^3 + 2x + 3 over F_97\n",
    "a, b, p = 2, 3, 97\n",
    "curve = EllipticCurve(a, b, p)\n",
    "\n",
    "# Generator point G on the curve\n",
    "G = (3, 6)\n",
    "assert curve.is_on_curve(G)\n",
    "\n",
    "# Alice and Bob's private keys\n",
    "alice_private = 7\n",
    "bob_private = 13\n",
    "\n",
    "# Their public keys\n",
    "alice_public = curve.scalar_mult(alice_private, G)\n",
    "bob_public = curve.scalar_mult(bob_private, G)\n",
    "\n",
    "# Shared secrets (should match!)\n",
    "alice_shared = curve.scalar_mult(alice_private, bob_public)\n",
    "bob_shared = curve.scalar_mult(bob_private, alice_public)\n",
    "\n",
    "print(\"Alice's Public Key:\", alice_public)\n",
    "print(\"Bob's Public Key:\", bob_public)\n",
    "print(\"Shared Secret (Alice):\", alice_shared)\n",
    "print(\"Shared Secret (Bob):  \", bob_shared)\n"
   ]
  },
  {
   "cell_type": "code",
   "execution_count": null,
   "id": "2dc0fb2f-e3c2-41e4-aa41-3a9ad2a33ca2",
   "metadata": {},
   "outputs": [],
   "source": []
  }
 ],
 "metadata": {
  "kernelspec": {
   "display_name": "Python 3 (ipykernel)",
   "language": "python",
   "name": "python3"
  },
  "language_info": {
   "codemirror_mode": {
    "name": "ipython",
    "version": 3
   },
   "file_extension": ".py",
   "mimetype": "text/x-python",
   "name": "python",
   "nbconvert_exporter": "python",
   "pygments_lexer": "ipython3",
   "version": "3.12.6"
  }
 },
 "nbformat": 4,
 "nbformat_minor": 5
}
