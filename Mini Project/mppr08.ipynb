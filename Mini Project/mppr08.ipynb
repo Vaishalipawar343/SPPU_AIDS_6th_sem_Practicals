{
 "cells": [
  {
   "cell_type": "markdown",
   "id": "2c53fe7b-5610-4f49-8857-1fa0582ce064",
   "metadata": {},
   "source": [
    "Practical 8 \n",
    "Mini Project 1: Implement Cross Site Scripting using stored attack. A stored cross-site scripting\n",
    "vulnerability in the comment functionality. [ Note: To implement this assignment, submit a\n",
    "comment that calls the alert function when the blog post is viewed.]"
   ]
  },
  {
   "cell_type": "code",
   "execution_count": null,
   "id": "142e3f37",
   "metadata": {},
   "outputs": [],
   "source": [
    "!pip install flask"
   ]
  },
  {
   "cell_type": "code",
   "execution_count": null,
   "id": "5be12b00",
   "metadata": {},
   "outputs": [],
   "source": [
    "from flask import Flask, render_template_string, request, redirect\n",
    "import html\n",
    "app = Flask(__name__)\n",
    "comments = []\n",
    "@app.route('/')\n",
    "def index():\n",
    "    comment_html = ''.join(f\"<li>{c}</li>\" for c in comments)\n",
    "    return render_template_string('''\n",
    "        <html>\n",
    "        <head>\n",
    "            <title>Mini Blog Site | Cyber Security</title>\n",
    "            <style>\n",
    "                body { font-family: Arial, sans-serif; margin: 40px; }\n",
    "                .blog { margin-bottom: 40px; }\n",
    "                .comment-box, .comments { margin-top: 20px; }\n",
    "                textarea { width: 100%; }\n",
    "            </style>\n",
    "        </head>\n",
    "        <body>\n",
    "            <div class=\"blog\">\n",
    "                <h1>How Websites Get Hacked: A Peek into XSS</h1>\n",
    "                <p>\n",
    "                    Cross-Site Scripting (XSS) is a common web vulnerability that allows attackers \n",
    "                    to inject malicious scripts into webpages viewed by others. This can be used \n",
    "                    to steal cookies, hijack sessions, or redirect users.\n",
    "                </p>\n",
    "                <p>\n",
    "                    Developers must always sanitize user inputs and avoid directly rendering user \n",
    "                    content without escaping HTML. This demo shows what happens when we forget to do that.\n",
    "                </p>\n",
    "                <p><strong>Enjoyed reading? Leave a comment below!</strong></p>\n",
    "            </div>\n",
    "\n",
    "            <div class=\"comment-box\">\n",
    "                <h2>Leave a Comment</h2>\n",
    "                <form method=\"POST\" action=\"/comment\">\n",
    "                    <textarea name=\"comment\" rows=\"4\" placeholder=\"Write your comment here...\"></textarea><br><br>\n",
    "                    <button type=\"submit\">Post Comment</button>\n",
    "                </form>\n",
    "            </div>\n",
    "\n",
    "            <div class=\"comments\">\n",
    "                <h2>Posted Comments:</h2>\n",
    "                <ul>\n",
    "                    {{ comment_html|safe }}\n",
    "                </ul>\n",
    "            </div>\n",
    "        </body>\n",
    "        </html>\n",
    "    ''', comment_html=comment_html)\n",
    "@app.route('/comment', methods=['POST'])\n",
    "def comment():\n",
    "    # Store raw user input\n",
    "    comment = request.form['comment']\n",
    "    comments.append(comment)\n",
    "    return redirect('/')\n",
    "if __name__ == '__main__':\n",
    "    # Do NOT use debug=True inside Jupyter or when using reloader\n",
    "    app.run(debug=False)"
   ]
  },
  {
   "cell_type": "code",
   "execution_count": null,
   "id": "65ef661f",
   "metadata": {},
   "outputs": [],
   "source": []
  }
 ],
 "metadata": {
  "kernelspec": {
   "display_name": "Python 3 (ipykernel)",
   "language": "python",
   "name": "python3"
  },
  "language_info": {
   "codemirror_mode": {
    "name": "ipython",
    "version": 3
   },
   "file_extension": ".py",
   "mimetype": "text/x-python",
   "name": "python",
   "nbconvert_exporter": "python",
   "pygments_lexer": "ipython3",
   "version": "3.12.6"
  }
 },
 "nbformat": 4,
 "nbformat_minor": 5
}
